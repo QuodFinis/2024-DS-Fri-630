{
 "cells": [
  {
   "cell_type": "markdown",
   "metadata": {},
   "source": [
    "# Fall 2024 Data Science Track: Week 2 - Data Cleaning Exercise"
   ]
  },
  {
   "cell_type": "markdown",
   "metadata": {},
   "source": [
    "## Packages, Packages, Packages!\n",
    "\n",
    "Import *all* the things here! You need the standard stuff: `pandas` and `numpy`.\n",
    "\n",
    "If you got more stuff you want to use, add them here too. 🙂"
   ]
  },
  {
   "cell_type": "code",
   "execution_count": 1,
   "metadata": {},
   "outputs": [],
   "source": [
    "# Import here.\n",
    "\n",
    "import pandas as pd\n",
    "import numpy as np"
   ]
  },
  {
   "cell_type": "markdown",
   "metadata": {},
   "source": [
    "## Introduction\n",
    "\n",
    "With the packages out of the way, now you will be working with the following data sets:\n",
    "\n",
    "* `food_coded.csv`: [Food choices](https://www.kaggle.com/datasets/borapajo/food-choices?select=food_coded.csv) from Kaggle\n",
    "* `Ask A Manager Salary Survey 2021 (Responses) - Form Responses 1.tsv`: [Ask A Manager Salary Survey 2021 (Responses)](https://docs.google.com/spreadsheets/d/1IPS5dBSGtwYVbjsfbaMCYIWnOuRmJcbequohNxCyGVw/view?&gid=1625408792) as *Tab Separated Values (.tsv)* from Google Docs\n",
    "\n",
    "Each one poses different challenges. But you’ll―of course―overcome them with what you learned in class! 😉"
   ]
  },
  {
   "cell_type": "markdown",
   "metadata": {},
   "source": [
    "## Food Choices Data Set"
   ]
  },
  {
   "cell_type": "markdown",
   "metadata": {},
   "source": [
    "### Load the Data"
   ]
  },
  {
   "cell_type": "code",
   "execution_count": 2,
   "metadata": {},
   "outputs": [
    {
     "data": {
      "text/plain": "     GPA  Gender  breakfast  calories_chicken  calories_day  calories_scone  \\\n0    2.4       2          1               430           NaN           315.0   \n1  3.654       1          1               610           3.0           420.0   \n2    3.3       1          1               720           4.0           420.0   \n3    3.2       1          1               430           3.0           420.0   \n4    3.5       1          1               720           2.0           420.0   \n\n   coffee                      comfort_food        comfort_food_reasons  \\\n0       1                              none       we dont have comfort    \n1       2       chocolate, chips, ice cream        Stress, bored, anger   \n2       2   frozen yogurt, pizza, fast food             stress, sadness   \n3       2  Pizza, Mac and cheese, ice cream                     Boredom   \n4       2      Ice cream, chocolate, chips   Stress, boredom, cravings    \n\n   comfort_food_reasons_coded  ...  soup  sports  thai_food tortilla_calories  \\\n0                         9.0  ...   1.0     1.0          1            1165.0   \n1                         1.0  ...   1.0     1.0          2             725.0   \n2                         1.0  ...   1.0     2.0          5            1165.0   \n3                         2.0  ...   1.0     2.0          5             725.0   \n4                         1.0  ...   1.0     1.0          4             940.0   \n\n   turkey_calories  type_sports veggies_day  vitamins  waffle_calories  \\\n0              345   car racing           5         1             1315   \n1              690  Basketball            4         2              900   \n2              500         none           5         1              900   \n3              690          NaN           3         1             1315   \n4              500     Softball           4         2              760   \n\n                     weight  \n0                       187  \n1                       155  \n2  I'm not answering this.   \n3             Not sure, 240  \n4                       190  \n\n[5 rows x 61 columns]",
      "text/html": "<div>\n<style scoped>\n    .dataframe tbody tr th:only-of-type {\n        vertical-align: middle;\n    }\n\n    .dataframe tbody tr th {\n        vertical-align: top;\n    }\n\n    .dataframe thead th {\n        text-align: right;\n    }\n</style>\n<table border=\"1\" class=\"dataframe\">\n  <thead>\n    <tr style=\"text-align: right;\">\n      <th></th>\n      <th>GPA</th>\n      <th>Gender</th>\n      <th>breakfast</th>\n      <th>calories_chicken</th>\n      <th>calories_day</th>\n      <th>calories_scone</th>\n      <th>coffee</th>\n      <th>comfort_food</th>\n      <th>comfort_food_reasons</th>\n      <th>comfort_food_reasons_coded</th>\n      <th>...</th>\n      <th>soup</th>\n      <th>sports</th>\n      <th>thai_food</th>\n      <th>tortilla_calories</th>\n      <th>turkey_calories</th>\n      <th>type_sports</th>\n      <th>veggies_day</th>\n      <th>vitamins</th>\n      <th>waffle_calories</th>\n      <th>weight</th>\n    </tr>\n  </thead>\n  <tbody>\n    <tr>\n      <th>0</th>\n      <td>2.4</td>\n      <td>2</td>\n      <td>1</td>\n      <td>430</td>\n      <td>NaN</td>\n      <td>315.0</td>\n      <td>1</td>\n      <td>none</td>\n      <td>we dont have comfort</td>\n      <td>9.0</td>\n      <td>...</td>\n      <td>1.0</td>\n      <td>1.0</td>\n      <td>1</td>\n      <td>1165.0</td>\n      <td>345</td>\n      <td>car racing</td>\n      <td>5</td>\n      <td>1</td>\n      <td>1315</td>\n      <td>187</td>\n    </tr>\n    <tr>\n      <th>1</th>\n      <td>3.654</td>\n      <td>1</td>\n      <td>1</td>\n      <td>610</td>\n      <td>3.0</td>\n      <td>420.0</td>\n      <td>2</td>\n      <td>chocolate, chips, ice cream</td>\n      <td>Stress, bored, anger</td>\n      <td>1.0</td>\n      <td>...</td>\n      <td>1.0</td>\n      <td>1.0</td>\n      <td>2</td>\n      <td>725.0</td>\n      <td>690</td>\n      <td>Basketball</td>\n      <td>4</td>\n      <td>2</td>\n      <td>900</td>\n      <td>155</td>\n    </tr>\n    <tr>\n      <th>2</th>\n      <td>3.3</td>\n      <td>1</td>\n      <td>1</td>\n      <td>720</td>\n      <td>4.0</td>\n      <td>420.0</td>\n      <td>2</td>\n      <td>frozen yogurt, pizza, fast food</td>\n      <td>stress, sadness</td>\n      <td>1.0</td>\n      <td>...</td>\n      <td>1.0</td>\n      <td>2.0</td>\n      <td>5</td>\n      <td>1165.0</td>\n      <td>500</td>\n      <td>none</td>\n      <td>5</td>\n      <td>1</td>\n      <td>900</td>\n      <td>I'm not answering this.</td>\n    </tr>\n    <tr>\n      <th>3</th>\n      <td>3.2</td>\n      <td>1</td>\n      <td>1</td>\n      <td>430</td>\n      <td>3.0</td>\n      <td>420.0</td>\n      <td>2</td>\n      <td>Pizza, Mac and cheese, ice cream</td>\n      <td>Boredom</td>\n      <td>2.0</td>\n      <td>...</td>\n      <td>1.0</td>\n      <td>2.0</td>\n      <td>5</td>\n      <td>725.0</td>\n      <td>690</td>\n      <td>NaN</td>\n      <td>3</td>\n      <td>1</td>\n      <td>1315</td>\n      <td>Not sure, 240</td>\n    </tr>\n    <tr>\n      <th>4</th>\n      <td>3.5</td>\n      <td>1</td>\n      <td>1</td>\n      <td>720</td>\n      <td>2.0</td>\n      <td>420.0</td>\n      <td>2</td>\n      <td>Ice cream, chocolate, chips</td>\n      <td>Stress, boredom, cravings</td>\n      <td>1.0</td>\n      <td>...</td>\n      <td>1.0</td>\n      <td>1.0</td>\n      <td>4</td>\n      <td>940.0</td>\n      <td>500</td>\n      <td>Softball</td>\n      <td>4</td>\n      <td>2</td>\n      <td>760</td>\n      <td>190</td>\n    </tr>\n  </tbody>\n</table>\n<p>5 rows × 61 columns</p>\n</div>"
     },
     "execution_count": 2,
     "metadata": {},
     "output_type": "execute_result"
    }
   ],
   "source": [
    "# Load the Food choices data set into a variable (e.g., df_food).\n",
    "\n",
    "food_data_set_path = 'data/food_coded.csv'\n",
    "\n",
    "df_food = pd.read_csv(food_data_set_path)\n",
    "df_food.head()"
   ]
  },
  {
   "cell_type": "markdown",
   "metadata": {},
   "source": [
    "### Explore the Data"
   ]
  },
  {
   "cell_type": "markdown",
   "metadata": {},
   "source": [
    "How much data did you just load?"
   ]
  },
  {
   "cell_type": "code",
   "execution_count": 3,
   "metadata": {},
   "outputs": [
    {
     "data": {
      "text/plain": "(125, 61)"
     },
     "execution_count": 3,
     "metadata": {},
     "output_type": "execute_result"
    }
   ],
   "source": [
    "# Count by hand. (lol kidding)\n",
    "\n",
    "df_food.shape"
   ]
  },
  {
   "cell_type": "markdown",
   "metadata": {},
   "source": [
    "What are the columns and their types in this data set?"
   ]
  },
  {
   "cell_type": "code",
   "execution_count": 4,
   "metadata": {},
   "outputs": [
    {
     "data": {
      "text/plain": "GPA                  object\nGender                int64\nbreakfast             int64\ncalories_chicken      int64\ncalories_day        float64\n                     ...   \ntype_sports          object\nveggies_day           int64\nvitamins              int64\nwaffle_calories       int64\nweight               object\nLength: 61, dtype: object"
     },
     "execution_count": 4,
     "metadata": {},
     "output_type": "execute_result"
    }
   ],
   "source": [
    "# Show the column names and their types.\n",
    "\n",
    "df_food.dtypes"
   ]
  },
  {
   "cell_type": "markdown",
   "metadata": {},
   "source": [
    "### Clean the Data\n",
    "\n",
    "Perhaps we’d like to know more another day, but the team is really interested in just the relationship between calories (`calories_day`) and weight. …and maybe gender."
   ]
  },
  {
   "cell_type": "markdown",
   "metadata": {},
   "source": [
    "Can you remove the other columns?"
   ]
  },
  {
   "cell_type": "code",
   "execution_count": 5,
   "metadata": {},
   "outputs": [
    {
     "data": {
      "text/plain": "   calories_day                    weight  Gender\n0           NaN                       187       2\n1           3.0                       155       1\n2           4.0  I'm not answering this.        1\n3           3.0             Not sure, 240       1\n4           2.0                       190       1",
      "text/html": "<div>\n<style scoped>\n    .dataframe tbody tr th:only-of-type {\n        vertical-align: middle;\n    }\n\n    .dataframe tbody tr th {\n        vertical-align: top;\n    }\n\n    .dataframe thead th {\n        text-align: right;\n    }\n</style>\n<table border=\"1\" class=\"dataframe\">\n  <thead>\n    <tr style=\"text-align: right;\">\n      <th></th>\n      <th>calories_day</th>\n      <th>weight</th>\n      <th>Gender</th>\n    </tr>\n  </thead>\n  <tbody>\n    <tr>\n      <th>0</th>\n      <td>NaN</td>\n      <td>187</td>\n      <td>2</td>\n    </tr>\n    <tr>\n      <th>1</th>\n      <td>3.0</td>\n      <td>155</td>\n      <td>1</td>\n    </tr>\n    <tr>\n      <th>2</th>\n      <td>4.0</td>\n      <td>I'm not answering this.</td>\n      <td>1</td>\n    </tr>\n    <tr>\n      <th>3</th>\n      <td>3.0</td>\n      <td>Not sure, 240</td>\n      <td>1</td>\n    </tr>\n    <tr>\n      <th>4</th>\n      <td>2.0</td>\n      <td>190</td>\n      <td>1</td>\n    </tr>\n  </tbody>\n</table>\n</div>"
     },
     "execution_count": 5,
     "metadata": {},
     "output_type": "execute_result"
    }
   ],
   "source": [
    "# Remove ‘em.\n",
    "\n",
    "df_food = df_food[['calories_day', 'weight', 'Gender']]\n",
    "df_food.head()"
   ]
  },
  {
   "cell_type": "markdown",
   "metadata": {},
   "source": [
    "What about `NaN`s? How many are there?"
   ]
  },
  {
   "cell_type": "code",
   "execution_count": 6,
   "metadata": {},
   "outputs": [
    {
     "data": {
      "text/plain": "calories_day    19\nweight           2\nGender           0\ndtype: int64"
     },
     "execution_count": 6,
     "metadata": {},
     "output_type": "execute_result"
    }
   ],
   "source": [
    "# Count ‘em.\n",
    "\n",
    "df_food.isna().sum()"
   ]
  },
  {
   "cell_type": "markdown",
   "metadata": {},
   "source": [
    "We gotta remove those `NaN`s―the entire row."
   ]
  },
  {
   "cell_type": "code",
   "execution_count": 7,
   "metadata": {},
   "outputs": [
    {
     "data": {
      "text/plain": "   calories_day                    weight  Gender\n1           3.0                       155       1\n2           4.0  I'm not answering this.        1\n3           3.0             Not sure, 240       1\n4           2.0                       190       1\n5           3.0                       190       1",
      "text/html": "<div>\n<style scoped>\n    .dataframe tbody tr th:only-of-type {\n        vertical-align: middle;\n    }\n\n    .dataframe tbody tr th {\n        vertical-align: top;\n    }\n\n    .dataframe thead th {\n        text-align: right;\n    }\n</style>\n<table border=\"1\" class=\"dataframe\">\n  <thead>\n    <tr style=\"text-align: right;\">\n      <th></th>\n      <th>calories_day</th>\n      <th>weight</th>\n      <th>Gender</th>\n    </tr>\n  </thead>\n  <tbody>\n    <tr>\n      <th>1</th>\n      <td>3.0</td>\n      <td>155</td>\n      <td>1</td>\n    </tr>\n    <tr>\n      <th>2</th>\n      <td>4.0</td>\n      <td>I'm not answering this.</td>\n      <td>1</td>\n    </tr>\n    <tr>\n      <th>3</th>\n      <td>3.0</td>\n      <td>Not sure, 240</td>\n      <td>1</td>\n    </tr>\n    <tr>\n      <th>4</th>\n      <td>2.0</td>\n      <td>190</td>\n      <td>1</td>\n    </tr>\n    <tr>\n      <th>5</th>\n      <td>3.0</td>\n      <td>190</td>\n      <td>1</td>\n    </tr>\n  </tbody>\n</table>\n</div>"
     },
     "execution_count": 7,
     "metadata": {},
     "output_type": "execute_result"
    }
   ],
   "source": [
    "# Drop ‘em.\n",
    "\n",
    "df_food = df_food.dropna()\n",
    "df_food.head()"
   ]
  },
  {
   "cell_type": "markdown",
   "metadata": {},
   "source": [
    "But what about the weird non-numeric values in the column obviously meant for numeric data?\n",
    "\n",
    "Notice the data type of that column from when you got the types of all the columns?\n",
    "\n",
    "If only we could convert the column to a numeric type and drop the rows with invalid values. 🤔"
   ]
  },
  {
   "cell_type": "code",
   "execution_count": 8,
   "metadata": {},
   "outputs": [
    {
     "data": {
      "text/plain": "   calories_day  weight  Gender\n1           3.0   155.0       1\n4           2.0   190.0       1\n5           3.0   190.0       1\n6           3.0   180.0       2\n7           3.0   137.0       1",
      "text/html": "<div>\n<style scoped>\n    .dataframe tbody tr th:only-of-type {\n        vertical-align: middle;\n    }\n\n    .dataframe tbody tr th {\n        vertical-align: top;\n    }\n\n    .dataframe thead th {\n        text-align: right;\n    }\n</style>\n<table border=\"1\" class=\"dataframe\">\n  <thead>\n    <tr style=\"text-align: right;\">\n      <th></th>\n      <th>calories_day</th>\n      <th>weight</th>\n      <th>Gender</th>\n    </tr>\n  </thead>\n  <tbody>\n    <tr>\n      <th>1</th>\n      <td>3.0</td>\n      <td>155.0</td>\n      <td>1</td>\n    </tr>\n    <tr>\n      <th>4</th>\n      <td>2.0</td>\n      <td>190.0</td>\n      <td>1</td>\n    </tr>\n    <tr>\n      <th>5</th>\n      <td>3.0</td>\n      <td>190.0</td>\n      <td>1</td>\n    </tr>\n    <tr>\n      <th>6</th>\n      <td>3.0</td>\n      <td>180.0</td>\n      <td>2</td>\n    </tr>\n    <tr>\n      <th>7</th>\n      <td>3.0</td>\n      <td>137.0</td>\n      <td>1</td>\n    </tr>\n  </tbody>\n</table>\n</div>"
     },
     "execution_count": 8,
     "metadata": {},
     "output_type": "execute_result"
    }
   ],
   "source": [
    "# Fix that.\n",
    "\n",
    "for column in df_food.columns:\n",
    "    df_food[column] = pd.to_numeric(df_food[column], errors='coerce')\n",
    "df_food = df_food.dropna()\n",
    "df_food.head()"
   ]
  },
  {
   "cell_type": "markdown",
   "metadata": {},
   "source": [
    "Now this data seems reasonably clean for our purposes! 😁\n",
    "\n",
    "Let’s save it somewhere to be shipped off to another teammate. 💾"
   ]
  },
  {
   "cell_type": "code",
   "execution_count": 9,
   "metadata": {},
   "outputs": [],
   "source": [
    "# Savey save!\n",
    "\n",
    "df_food.to_csv('data/cleaned_food.csv', index=False)"
   ]
  },
  {
   "cell_type": "markdown",
   "metadata": {},
   "source": [
    "## Ask a Manager Salary Survey 2021 (Responses) Data Set"
   ]
  },
  {
   "cell_type": "markdown",
   "metadata": {},
   "source": [
    "### Load the Data"
   ]
  },
  {
   "cell_type": "code",
   "execution_count": 10,
   "metadata": {},
   "outputs": [
    {
     "data": {
      "text/plain": "            Timestamp How old are you?  What industry do you work in?  \\\n0  4/27/2021 11:02:10            25-34   Education (Higher Education)   \n1  4/27/2021 11:02:22            25-34              Computing or Tech   \n2  4/27/2021 11:02:38            25-34  Accounting, Banking & Finance   \n3  4/27/2021 11:02:41            25-34                     Nonprofits   \n4  4/27/2021 11:02:42            25-34  Accounting, Banking & Finance   \n\n                                  Job title  \\\n0        Research and Instruction Librarian   \n1  Change & Internal Communications Manager   \n2                      Marketing Specialist   \n3                           Program Manager   \n4                        Accounting Manager   \n\n  If your job title needs additional context, please clarify here:  \\\n0                                                NaN                 \n1                                                NaN                 \n2                                                NaN                 \n3                                                NaN                 \n4                                                NaN                 \n\n  What is your annual salary? (You'll indicate the currency in a later question. If you are part-time or hourly, please enter an annualized equivalent -- what you would earn if you worked the job 40 hours a week, 52 weeks a year.)  \\\n0                                             55,000                                                                                                                                                                                     \n1                                             54,600                                                                                                                                                                                     \n2                                             34,000                                                                                                                                                                                     \n3                                             62,000                                                                                                                                                                                     \n4                                             60,000                                                                                                                                                                                     \n\n   How much additional monetary compensation do you get, if any (for example, bonuses or overtime in an average year)? Please only include monetary compensation here, not the value of benefits.  \\\n0                                                0.0                                                                                                                                                \n1                                             4000.0                                                                                                                                                \n2                                                NaN                                                                                                                                                \n3                                             3000.0                                                                                                                                                \n4                                             7000.0                                                                                                                                                \n\n  Please indicate the currency  \\\n0                          USD   \n1                          GBP   \n2                          USD   \n3                          USD   \n4                          USD   \n\n  If \"Other,\" please indicate the currency here:   \\\n0                                             NaN   \n1                                             NaN   \n2                                             NaN   \n3                                             NaN   \n4                                             NaN   \n\n  If your income needs additional context, please provide it here:  \\\n0                                                NaN                 \n1                                                NaN                 \n2                                                NaN                 \n3                                                NaN                 \n4                                                NaN                 \n\n  What country do you work in?  \\\n0                United States   \n1               United Kingdom   \n2                           US   \n3                          USA   \n4                           US   \n\n  If you're in the U.S., what state do you work in? What city do you work in?  \\\n0                                     Massachusetts                    Boston   \n1                                               NaN                 Cambridge   \n2                                         Tennessee               Chattanooga   \n3                                         Wisconsin                 Milwaukee   \n4                                    South Carolina                Greenville   \n\n  How many years of professional work experience do you have overall?  \\\n0                                          5-7 years                    \n1                                       8 - 10 years                    \n2                                        2 - 4 years                    \n3                                       8 - 10 years                    \n4                                       8 - 10 years                    \n\n  How many years of professional work experience do you have in your field?  \\\n0                                          5-7 years                          \n1                                          5-7 years                          \n2                                        2 - 4 years                          \n3                                          5-7 years                          \n4                                          5-7 years                          \n\n  What is your highest level of education completed? What is your gender?  \\\n0                                    Master's degree                Woman   \n1                                     College degree           Non-binary   \n2                                     College degree                Woman   \n3                                     College degree                Woman   \n4                                     College degree                Woman   \n\n  What is your race? (Choose all that apply.)  \n0                                       White  \n1                                       White  \n2                                       White  \n3                                       White  \n4                                       White  ",
      "text/html": "<div>\n<style scoped>\n    .dataframe tbody tr th:only-of-type {\n        vertical-align: middle;\n    }\n\n    .dataframe tbody tr th {\n        vertical-align: top;\n    }\n\n    .dataframe thead th {\n        text-align: right;\n    }\n</style>\n<table border=\"1\" class=\"dataframe\">\n  <thead>\n    <tr style=\"text-align: right;\">\n      <th></th>\n      <th>Timestamp</th>\n      <th>How old are you?</th>\n      <th>What industry do you work in?</th>\n      <th>Job title</th>\n      <th>If your job title needs additional context, please clarify here:</th>\n      <th>What is your annual salary? (You'll indicate the currency in a later question. If you are part-time or hourly, please enter an annualized equivalent -- what you would earn if you worked the job 40 hours a week, 52 weeks a year.)</th>\n      <th>How much additional monetary compensation do you get, if any (for example, bonuses or overtime in an average year)? Please only include monetary compensation here, not the value of benefits.</th>\n      <th>Please indicate the currency</th>\n      <th>If \"Other,\" please indicate the currency here:</th>\n      <th>If your income needs additional context, please provide it here:</th>\n      <th>What country do you work in?</th>\n      <th>If you're in the U.S., what state do you work in?</th>\n      <th>What city do you work in?</th>\n      <th>How many years of professional work experience do you have overall?</th>\n      <th>How many years of professional work experience do you have in your field?</th>\n      <th>What is your highest level of education completed?</th>\n      <th>What is your gender?</th>\n      <th>What is your race? (Choose all that apply.)</th>\n    </tr>\n  </thead>\n  <tbody>\n    <tr>\n      <th>0</th>\n      <td>4/27/2021 11:02:10</td>\n      <td>25-34</td>\n      <td>Education (Higher Education)</td>\n      <td>Research and Instruction Librarian</td>\n      <td>NaN</td>\n      <td>55,000</td>\n      <td>0.0</td>\n      <td>USD</td>\n      <td>NaN</td>\n      <td>NaN</td>\n      <td>United States</td>\n      <td>Massachusetts</td>\n      <td>Boston</td>\n      <td>5-7 years</td>\n      <td>5-7 years</td>\n      <td>Master's degree</td>\n      <td>Woman</td>\n      <td>White</td>\n    </tr>\n    <tr>\n      <th>1</th>\n      <td>4/27/2021 11:02:22</td>\n      <td>25-34</td>\n      <td>Computing or Tech</td>\n      <td>Change &amp; Internal Communications Manager</td>\n      <td>NaN</td>\n      <td>54,600</td>\n      <td>4000.0</td>\n      <td>GBP</td>\n      <td>NaN</td>\n      <td>NaN</td>\n      <td>United Kingdom</td>\n      <td>NaN</td>\n      <td>Cambridge</td>\n      <td>8 - 10 years</td>\n      <td>5-7 years</td>\n      <td>College degree</td>\n      <td>Non-binary</td>\n      <td>White</td>\n    </tr>\n    <tr>\n      <th>2</th>\n      <td>4/27/2021 11:02:38</td>\n      <td>25-34</td>\n      <td>Accounting, Banking &amp; Finance</td>\n      <td>Marketing Specialist</td>\n      <td>NaN</td>\n      <td>34,000</td>\n      <td>NaN</td>\n      <td>USD</td>\n      <td>NaN</td>\n      <td>NaN</td>\n      <td>US</td>\n      <td>Tennessee</td>\n      <td>Chattanooga</td>\n      <td>2 - 4 years</td>\n      <td>2 - 4 years</td>\n      <td>College degree</td>\n      <td>Woman</td>\n      <td>White</td>\n    </tr>\n    <tr>\n      <th>3</th>\n      <td>4/27/2021 11:02:41</td>\n      <td>25-34</td>\n      <td>Nonprofits</td>\n      <td>Program Manager</td>\n      <td>NaN</td>\n      <td>62,000</td>\n      <td>3000.0</td>\n      <td>USD</td>\n      <td>NaN</td>\n      <td>NaN</td>\n      <td>USA</td>\n      <td>Wisconsin</td>\n      <td>Milwaukee</td>\n      <td>8 - 10 years</td>\n      <td>5-7 years</td>\n      <td>College degree</td>\n      <td>Woman</td>\n      <td>White</td>\n    </tr>\n    <tr>\n      <th>4</th>\n      <td>4/27/2021 11:02:42</td>\n      <td>25-34</td>\n      <td>Accounting, Banking &amp; Finance</td>\n      <td>Accounting Manager</td>\n      <td>NaN</td>\n      <td>60,000</td>\n      <td>7000.0</td>\n      <td>USD</td>\n      <td>NaN</td>\n      <td>NaN</td>\n      <td>US</td>\n      <td>South Carolina</td>\n      <td>Greenville</td>\n      <td>8 - 10 years</td>\n      <td>5-7 years</td>\n      <td>College degree</td>\n      <td>Woman</td>\n      <td>White</td>\n    </tr>\n  </tbody>\n</table>\n</div>"
     },
     "execution_count": 10,
     "metadata": {},
     "output_type": "execute_result"
    }
   ],
   "source": [
    "# Load the Ask A Manager Salary Survey 2021 (Responses) data set into a variable (e.g., df_salary).\n",
    "\n",
    "df_salary = pd.read_csv('data/Ask A Manager Salary Survey 2021 (Responses) - Form Responses 1.tsv', delimiter='\\t')\n",
    "df_salary.head()"
   ]
  },
  {
   "cell_type": "markdown",
   "metadata": {},
   "source": [
    "Was that hard? 🙃"
   ]
  },
  {
   "cell_type": "markdown",
   "metadata": {},
   "source": [
    "#### rename the file to something that is better for all systems.  \n",
    "* No spaces in filename (can use '_')\n",
    "* all lower case"
   ]
  },
  {
   "cell_type": "markdown",
   "metadata": {},
   "source": [
    "### Explore\n",
    "\n",
    "You know the drill."
   ]
  },
  {
   "cell_type": "markdown",
   "metadata": {},
   "source": [
    "How much data did you just load?"
   ]
  },
  {
   "cell_type": "code",
   "execution_count": 11,
   "metadata": {},
   "outputs": [
    {
     "data": {
      "text/plain": "(28062, 18)"
     },
     "execution_count": 11,
     "metadata": {},
     "output_type": "execute_result"
    }
   ],
   "source": [
    "# Count by hand. I’m dead serious.\n",
    "\n",
    "df_salary.shape"
   ]
  },
  {
   "cell_type": "markdown",
   "metadata": {},
   "source": [
    "What are the columns and their types?"
   ]
  },
  {
   "cell_type": "code",
   "execution_count": 12,
   "metadata": {},
   "outputs": [
    {
     "data": {
      "text/plain": "Timestamp                                                                                                                                                                                                                                object\nHow old are you?                                                                                                                                                                                                                         object\nWhat industry do you work in?                                                                                                                                                                                                            object\nJob title                                                                                                                                                                                                                                object\nIf your job title needs additional context, please clarify here:                                                                                                                                                                         object\nWhat is your annual salary? (You'll indicate the currency in a later question. If you are part-time or hourly, please enter an annualized equivalent -- what you would earn if you worked the job 40 hours a week, 52 weeks a year.)     object\nHow much additional monetary compensation do you get, if any (for example, bonuses or overtime in an average year)? Please only include monetary compensation here, not the value of benefits.                                          float64\nPlease indicate the currency                                                                                                                                                                                                             object\nIf \"Other,\" please indicate the currency here:                                                                                                                                                                                           object\nIf your income needs additional context, please provide it here:                                                                                                                                                                         object\nWhat country do you work in?                                                                                                                                                                                                             object\nIf you're in the U.S., what state do you work in?                                                                                                                                                                                        object\nWhat city do you work in?                                                                                                                                                                                                                object\nHow many years of professional work experience do you have overall?                                                                                                                                                                      object\nHow many years of professional work experience do you have in your field?                                                                                                                                                                object\nWhat is your highest level of education completed?                                                                                                                                                                                       object\nWhat is your gender?                                                                                                                                                                                                                     object\nWhat is your race? (Choose all that apply.)                                                                                                                                                                                              object\ndtype: object"
     },
     "execution_count": 12,
     "metadata": {},
     "output_type": "execute_result"
    }
   ],
   "source": [
    "# Show the column names and their types.\n",
    "\n",
    "df_salary.dtypes"
   ]
  },
  {
   "cell_type": "markdown",
   "metadata": {},
   "source": [
    "Oh… Ugh! Give these columns easier names to work with first. 🙄"
   ]
  },
  {
   "cell_type": "code",
   "execution_count": 13,
   "metadata": {},
   "outputs": [
    {
     "data": {
      "text/plain": "timestamp                       object\nage                             object\nindustry                        object\ntitle                           object\ntitle_context                   object\nsalary                          object\nadditional_compensation        float64\ncurrency                        object\nother_currency                  object\nsalary_context                  object\ncountry                         object\nstate                           object\ncity                            object\ntotal_yoe                       object\nfield_yoe                       object\nhighest_education_completed     object\ngender                          object\nrace                            object\ndtype: object"
     },
     "execution_count": 13,
     "metadata": {},
     "output_type": "execute_result"
    }
   ],
   "source": [
    "# Rename ‘em.\n",
    "# Non-binding suggestions: timestamp, age, industry, title, title_context, salary, additional_compensation, currency, other_currency, salary_context, country, state, city, total_yoe, field_yoe, highest_education_completed\tgender, race\n",
    "new_names = ['timestamp', \"age\", 'industry', 'title', 'title_context', 'salary', 'additional_compensation', 'currency', 'other_currency', 'salary_context', 'country', 'state', 'city', 'total_yoe', 'field_yoe', 'highest_education_completed', 'gender', 'race']\n",
    "\n",
    "df_salary = df_salary.rename(columns=dict(zip(df_salary.columns, new_names)))\n",
    "df_salary.dtypes"
   ]
  },
  {
   "cell_type": "markdown",
   "metadata": {},
   "source": [
    "It’s a lot, and that should not have been easy. 😏"
   ]
  },
  {
   "cell_type": "markdown",
   "metadata": {},
   "source": [
    "You’re going to have a gander at the computing/tech subset first because thats *your* industry. But first, what value corresponds to that `industry`?"
   ]
  },
  {
   "cell_type": "code",
   "execution_count": 14,
   "metadata": {},
   "outputs": [
    {
     "data": {
      "text/plain": "industry\nComputing or Tech                          4699\nEducation (Higher Education)               2464\nNonprofits                                 2419\nHealth care                                1896\nGovernment and Public Administration       1889\n                                           ... \nGaming (Gambling)                             1\nRegulatory Affairs- nutraceuticals            1\nManufacturing : corporate admin support       1\nReal Estate Investment Support                1\nWine & Spirits                                1\nName: count, Length: 1219, dtype: int64"
     },
     "execution_count": 14,
     "metadata": {},
     "output_type": "execute_result"
    }
   ],
   "source": [
    "# List the unique industries and a count of their instances.\n",
    "\n",
    "df_salary.industry.value_counts()"
   ]
  },
  {
   "cell_type": "markdown",
   "metadata": {},
   "source": [
    "That value among the top 5 is what you’re looking for innit? Filter out all the rows not in that industry and save it into a new dataframe. "
   ]
  },
  {
   "cell_type": "code",
   "execution_count": 15,
   "metadata": {},
   "outputs": [
    {
     "data": {
      "text/plain": "             timestamp    age           industry  \\\n1   4/27/2021 11:02:22  25-34  Computing or Tech   \n8   4/27/2021 11:03:01  45-54  Computing or Tech   \n43  4/27/2021 11:04:04  25-34  Computing or Tech   \n44  4/27/2021 11:04:04  25-34  Computing or Tech   \n46  4/27/2021 11:04:07  35-44  Computing or Tech   \n\n                                       title                 title_context  \\\n1   Change & Internal Communications Manager                           NaN   \n8                            Systems Analyst  Data developer/ETL Developer   \n43               Principal Software Engineer                           NaN   \n44                      Intelligence Analyst                           NaN   \n46                          Mobile developer                           NaN   \n\n     salary  additional_compensation currency other_currency  \\\n1    54,600                   4000.0      GBP            NaN   \n8   112,000                  10000.0      USD            NaN   \n43  187,500                   5000.0      USD            NaN   \n44  110,000                  20000.0      USD            NaN   \n46  144,600                   2500.0      USD            NaN   \n\n                   salary_context         country          state  \\\n1                             NaN  United Kingdom            NaN   \n8                             NaN              US       Missouri   \n43                            NaN   United States   Pennsylvania   \n44  Around 20,000 a year in stock             USA       Virginia   \n46                            NaN             USA  Massachusetts   \n\n             city      total_yoe      field_yoe highest_education_completed  \\\n1       Cambridge   8 - 10 years      5-7 years              College degree   \n8       St. Louis  21 - 30 years  21 - 30 years              College degree   \n43     Pittsburgh   8 - 10 years      5-7 years              College degree   \n44  Arlington, VA   8 - 10 years   8 - 10 years             Master's degree   \n46         Boston      5-7 years      5-7 years                         PhD   \n\n        gender   race  \n1   Non-binary  White  \n8        Woman  White  \n43       Woman  White  \n44         Man  White  \n46       Woman  White  ",
      "text/html": "<div>\n<style scoped>\n    .dataframe tbody tr th:only-of-type {\n        vertical-align: middle;\n    }\n\n    .dataframe tbody tr th {\n        vertical-align: top;\n    }\n\n    .dataframe thead th {\n        text-align: right;\n    }\n</style>\n<table border=\"1\" class=\"dataframe\">\n  <thead>\n    <tr style=\"text-align: right;\">\n      <th></th>\n      <th>timestamp</th>\n      <th>age</th>\n      <th>industry</th>\n      <th>title</th>\n      <th>title_context</th>\n      <th>salary</th>\n      <th>additional_compensation</th>\n      <th>currency</th>\n      <th>other_currency</th>\n      <th>salary_context</th>\n      <th>country</th>\n      <th>state</th>\n      <th>city</th>\n      <th>total_yoe</th>\n      <th>field_yoe</th>\n      <th>highest_education_completed</th>\n      <th>gender</th>\n      <th>race</th>\n    </tr>\n  </thead>\n  <tbody>\n    <tr>\n      <th>1</th>\n      <td>4/27/2021 11:02:22</td>\n      <td>25-34</td>\n      <td>Computing or Tech</td>\n      <td>Change &amp; Internal Communications Manager</td>\n      <td>NaN</td>\n      <td>54,600</td>\n      <td>4000.0</td>\n      <td>GBP</td>\n      <td>NaN</td>\n      <td>NaN</td>\n      <td>United Kingdom</td>\n      <td>NaN</td>\n      <td>Cambridge</td>\n      <td>8 - 10 years</td>\n      <td>5-7 years</td>\n      <td>College degree</td>\n      <td>Non-binary</td>\n      <td>White</td>\n    </tr>\n    <tr>\n      <th>8</th>\n      <td>4/27/2021 11:03:01</td>\n      <td>45-54</td>\n      <td>Computing or Tech</td>\n      <td>Systems Analyst</td>\n      <td>Data developer/ETL Developer</td>\n      <td>112,000</td>\n      <td>10000.0</td>\n      <td>USD</td>\n      <td>NaN</td>\n      <td>NaN</td>\n      <td>US</td>\n      <td>Missouri</td>\n      <td>St. Louis</td>\n      <td>21 - 30 years</td>\n      <td>21 - 30 years</td>\n      <td>College degree</td>\n      <td>Woman</td>\n      <td>White</td>\n    </tr>\n    <tr>\n      <th>43</th>\n      <td>4/27/2021 11:04:04</td>\n      <td>25-34</td>\n      <td>Computing or Tech</td>\n      <td>Principal Software Engineer</td>\n      <td>NaN</td>\n      <td>187,500</td>\n      <td>5000.0</td>\n      <td>USD</td>\n      <td>NaN</td>\n      <td>NaN</td>\n      <td>United States</td>\n      <td>Pennsylvania</td>\n      <td>Pittsburgh</td>\n      <td>8 - 10 years</td>\n      <td>5-7 years</td>\n      <td>College degree</td>\n      <td>Woman</td>\n      <td>White</td>\n    </tr>\n    <tr>\n      <th>44</th>\n      <td>4/27/2021 11:04:04</td>\n      <td>25-34</td>\n      <td>Computing or Tech</td>\n      <td>Intelligence Analyst</td>\n      <td>NaN</td>\n      <td>110,000</td>\n      <td>20000.0</td>\n      <td>USD</td>\n      <td>NaN</td>\n      <td>Around 20,000 a year in stock</td>\n      <td>USA</td>\n      <td>Virginia</td>\n      <td>Arlington, VA</td>\n      <td>8 - 10 years</td>\n      <td>8 - 10 years</td>\n      <td>Master's degree</td>\n      <td>Man</td>\n      <td>White</td>\n    </tr>\n    <tr>\n      <th>46</th>\n      <td>4/27/2021 11:04:07</td>\n      <td>35-44</td>\n      <td>Computing or Tech</td>\n      <td>Mobile developer</td>\n      <td>NaN</td>\n      <td>144,600</td>\n      <td>2500.0</td>\n      <td>USD</td>\n      <td>NaN</td>\n      <td>NaN</td>\n      <td>USA</td>\n      <td>Massachusetts</td>\n      <td>Boston</td>\n      <td>5-7 years</td>\n      <td>5-7 years</td>\n      <td>PhD</td>\n      <td>Woman</td>\n      <td>White</td>\n    </tr>\n  </tbody>\n</table>\n</div>"
     },
     "execution_count": 15,
     "metadata": {},
     "output_type": "execute_result"
    }
   ],
   "source": [
    "# Filtery filter. (Save it to a new variable, df_salary_tech.)\n",
    "\n",
    "df_salary_tech = df_salary[df_salary['industry'] == 'Computing or Tech']\n",
    "df_salary_tech.head()"
   ]
  },
  {
   "cell_type": "markdown",
   "metadata": {},
   "source": [
    "Do a sanity check to make sure that the only values you kept are the one you are filtered for.  "
   ]
  },
  {
   "cell_type": "code",
   "execution_count": 16,
   "metadata": {},
   "outputs": [
    {
     "data": {
      "text/plain": "(4699, 18)"
     },
     "execution_count": 16,
     "metadata": {},
     "output_type": "execute_result"
    }
   ],
   "source": [
    "# Sanity Check \n",
    "\n",
    "df_salary_tech.shape"
   ]
  },
  {
   "cell_type": "markdown",
   "metadata": {},
   "source": [
    "We are very interested in salary figures. But how many dollars 💵 is a euro 💶 or a pound 💷? That sounds like a problem for another day. 🫠\n",
    "\n",
    "For now, let’s just look at U.S. dollars (`'USD'`)."
   ]
  },
  {
   "cell_type": "code",
   "execution_count": 17,
   "metadata": {},
   "outputs": [
    {
     "data": {
      "text/plain": "                timestamp    age           industry  \\\n8      4/27/2021 11:03:01  45-54  Computing or Tech   \n43     4/27/2021 11:04:04  25-34  Computing or Tech   \n44     4/27/2021 11:04:04  25-34  Computing or Tech   \n46     4/27/2021 11:04:07  35-44  Computing or Tech   \n47     4/27/2021 11:04:09  35-44  Computing or Tech   \n...                   ...    ...                ...   \n28044   6/3/2024 16:15:43  18-24  Computing or Tech   \n28051   7/1/2024 20:05:58  25-34  Computing or Tech   \n28052   7/3/2024 14:02:01  25-34  Computing or Tech   \n28058  7/23/2024 17:51:03  25-34  Computing or Tech   \n28060  7/26/2024 11:20:45  18-24  Computing or Tech   \n\n                                        title                 title_context  \\\n8                             Systems Analyst  Data developer/ETL Developer   \n43                Principal Software Engineer                           NaN   \n44                       Intelligence Analyst                           NaN   \n46                           Mobile developer                           NaN   \n47                    Product Design Director                           NaN   \n...                                       ...                           ...   \n28044         Research Data Analyst Associate                           NaN   \n28051                    Junior data analyst                            NaN   \n28052  Senior Global Public Relations Manager                           NaN   \n28058                       Systems Architect                           NaN   \n28060                                      IT                           NaN   \n\n        salary  additional_compensation currency other_currency  \\\n8      112,000                  10000.0      USD            NaN   \n43     187,500                   5000.0      USD            NaN   \n44     110,000                  20000.0      USD            NaN   \n46     144,600                   2500.0      USD            NaN   \n47     200,850                  40000.0      USD            NaN   \n...        ...                      ...      ...            ...   \n28044    60000                      0.0      USD            NaN   \n28051    35000                  15000.0      USD            NaN   \n28052   144000                  15000.0      USD            NaN   \n28058   109000                      NaN      USD            NaN   \n28060     1700                     10.0      USD            NaN   \n\n                      salary_context        country           state  \\\n8                                NaN             US        Missouri   \n43                               NaN  United States    Pennsylvania   \n44     Around 20,000 a year in stock            USA        Virginia   \n46                               NaN            USA   Massachusetts   \n47                               NaN            USA  North Carolina   \n...                              ...            ...             ...   \n28044                            NaN  United States        Illinois   \n28051                            NaN            Usa         Alabama   \n28052                            NaN            Usa   Massachusetts   \n28058                            NaN            USA         Georgia   \n28060                            NaN          Burma             NaN   \n\n                                               city      total_yoe  \\\n8                                         St. Louis  21 - 30 years   \n43                                       Pittsburgh   8 - 10 years   \n44                                    Arlington, VA   8 - 10 years   \n46                                           Boston      5-7 years   \n47                                      Chapel Hill  11 - 20 years   \n...                                             ...            ...   \n28044                                      Evanston    2 - 4 years   \n28051                                      Alabama     2 - 4 years   \n28052  Boise-but remote. Company located in Boston    8 - 10 years   \n28058                                       Atlanta      5-7 years   \n28060                                        Yangon    2 - 4 years   \n\n            field_yoe highest_education_completed gender  \\\n8       21 - 30 years              College degree  Woman   \n43          5-7 years              College degree  Woman   \n44       8 - 10 years             Master's degree    Man   \n46          5-7 years                         PhD  Woman   \n47      11 - 20 years              College degree  Woman   \n...               ...                         ...    ...   \n28044  1 year or less              College degree  Woman   \n28051     2 - 4 years              College degree  Woman   \n28052    8 - 10 years             Master's degree  Woman   \n28058       5-7 years              College degree    Man   \n28060  1 year or less                Some college    Man   \n\n                            race  \n8                          White  \n43                         White  \n44                         White  \n46                         White  \n47                         White  \n...                          ...  \n28044                      White  \n28051  Black or African American  \n28052                      White  \n28058                      White  \n28060    Asian or Asian American  \n\n[3777 rows x 18 columns]",
      "text/html": "<div>\n<style scoped>\n    .dataframe tbody tr th:only-of-type {\n        vertical-align: middle;\n    }\n\n    .dataframe tbody tr th {\n        vertical-align: top;\n    }\n\n    .dataframe thead th {\n        text-align: right;\n    }\n</style>\n<table border=\"1\" class=\"dataframe\">\n  <thead>\n    <tr style=\"text-align: right;\">\n      <th></th>\n      <th>timestamp</th>\n      <th>age</th>\n      <th>industry</th>\n      <th>title</th>\n      <th>title_context</th>\n      <th>salary</th>\n      <th>additional_compensation</th>\n      <th>currency</th>\n      <th>other_currency</th>\n      <th>salary_context</th>\n      <th>country</th>\n      <th>state</th>\n      <th>city</th>\n      <th>total_yoe</th>\n      <th>field_yoe</th>\n      <th>highest_education_completed</th>\n      <th>gender</th>\n      <th>race</th>\n    </tr>\n  </thead>\n  <tbody>\n    <tr>\n      <th>8</th>\n      <td>4/27/2021 11:03:01</td>\n      <td>45-54</td>\n      <td>Computing or Tech</td>\n      <td>Systems Analyst</td>\n      <td>Data developer/ETL Developer</td>\n      <td>112,000</td>\n      <td>10000.0</td>\n      <td>USD</td>\n      <td>NaN</td>\n      <td>NaN</td>\n      <td>US</td>\n      <td>Missouri</td>\n      <td>St. Louis</td>\n      <td>21 - 30 years</td>\n      <td>21 - 30 years</td>\n      <td>College degree</td>\n      <td>Woman</td>\n      <td>White</td>\n    </tr>\n    <tr>\n      <th>43</th>\n      <td>4/27/2021 11:04:04</td>\n      <td>25-34</td>\n      <td>Computing or Tech</td>\n      <td>Principal Software Engineer</td>\n      <td>NaN</td>\n      <td>187,500</td>\n      <td>5000.0</td>\n      <td>USD</td>\n      <td>NaN</td>\n      <td>NaN</td>\n      <td>United States</td>\n      <td>Pennsylvania</td>\n      <td>Pittsburgh</td>\n      <td>8 - 10 years</td>\n      <td>5-7 years</td>\n      <td>College degree</td>\n      <td>Woman</td>\n      <td>White</td>\n    </tr>\n    <tr>\n      <th>44</th>\n      <td>4/27/2021 11:04:04</td>\n      <td>25-34</td>\n      <td>Computing or Tech</td>\n      <td>Intelligence Analyst</td>\n      <td>NaN</td>\n      <td>110,000</td>\n      <td>20000.0</td>\n      <td>USD</td>\n      <td>NaN</td>\n      <td>Around 20,000 a year in stock</td>\n      <td>USA</td>\n      <td>Virginia</td>\n      <td>Arlington, VA</td>\n      <td>8 - 10 years</td>\n      <td>8 - 10 years</td>\n      <td>Master's degree</td>\n      <td>Man</td>\n      <td>White</td>\n    </tr>\n    <tr>\n      <th>46</th>\n      <td>4/27/2021 11:04:07</td>\n      <td>35-44</td>\n      <td>Computing or Tech</td>\n      <td>Mobile developer</td>\n      <td>NaN</td>\n      <td>144,600</td>\n      <td>2500.0</td>\n      <td>USD</td>\n      <td>NaN</td>\n      <td>NaN</td>\n      <td>USA</td>\n      <td>Massachusetts</td>\n      <td>Boston</td>\n      <td>5-7 years</td>\n      <td>5-7 years</td>\n      <td>PhD</td>\n      <td>Woman</td>\n      <td>White</td>\n    </tr>\n    <tr>\n      <th>47</th>\n      <td>4/27/2021 11:04:09</td>\n      <td>35-44</td>\n      <td>Computing or Tech</td>\n      <td>Product Design Director</td>\n      <td>NaN</td>\n      <td>200,850</td>\n      <td>40000.0</td>\n      <td>USD</td>\n      <td>NaN</td>\n      <td>NaN</td>\n      <td>USA</td>\n      <td>North Carolina</td>\n      <td>Chapel Hill</td>\n      <td>11 - 20 years</td>\n      <td>11 - 20 years</td>\n      <td>College degree</td>\n      <td>Woman</td>\n      <td>White</td>\n    </tr>\n    <tr>\n      <th>...</th>\n      <td>...</td>\n      <td>...</td>\n      <td>...</td>\n      <td>...</td>\n      <td>...</td>\n      <td>...</td>\n      <td>...</td>\n      <td>...</td>\n      <td>...</td>\n      <td>...</td>\n      <td>...</td>\n      <td>...</td>\n      <td>...</td>\n      <td>...</td>\n      <td>...</td>\n      <td>...</td>\n      <td>...</td>\n      <td>...</td>\n    </tr>\n    <tr>\n      <th>28044</th>\n      <td>6/3/2024 16:15:43</td>\n      <td>18-24</td>\n      <td>Computing or Tech</td>\n      <td>Research Data Analyst Associate</td>\n      <td>NaN</td>\n      <td>60000</td>\n      <td>0.0</td>\n      <td>USD</td>\n      <td>NaN</td>\n      <td>NaN</td>\n      <td>United States</td>\n      <td>Illinois</td>\n      <td>Evanston</td>\n      <td>2 - 4 years</td>\n      <td>1 year or less</td>\n      <td>College degree</td>\n      <td>Woman</td>\n      <td>White</td>\n    </tr>\n    <tr>\n      <th>28051</th>\n      <td>7/1/2024 20:05:58</td>\n      <td>25-34</td>\n      <td>Computing or Tech</td>\n      <td>Junior data analyst</td>\n      <td>NaN</td>\n      <td>35000</td>\n      <td>15000.0</td>\n      <td>USD</td>\n      <td>NaN</td>\n      <td>NaN</td>\n      <td>Usa</td>\n      <td>Alabama</td>\n      <td>Alabama</td>\n      <td>2 - 4 years</td>\n      <td>2 - 4 years</td>\n      <td>College degree</td>\n      <td>Woman</td>\n      <td>Black or African American</td>\n    </tr>\n    <tr>\n      <th>28052</th>\n      <td>7/3/2024 14:02:01</td>\n      <td>25-34</td>\n      <td>Computing or Tech</td>\n      <td>Senior Global Public Relations Manager</td>\n      <td>NaN</td>\n      <td>144000</td>\n      <td>15000.0</td>\n      <td>USD</td>\n      <td>NaN</td>\n      <td>NaN</td>\n      <td>Usa</td>\n      <td>Massachusetts</td>\n      <td>Boise-but remote. Company located in Boston</td>\n      <td>8 - 10 years</td>\n      <td>8 - 10 years</td>\n      <td>Master's degree</td>\n      <td>Woman</td>\n      <td>White</td>\n    </tr>\n    <tr>\n      <th>28058</th>\n      <td>7/23/2024 17:51:03</td>\n      <td>25-34</td>\n      <td>Computing or Tech</td>\n      <td>Systems Architect</td>\n      <td>NaN</td>\n      <td>109000</td>\n      <td>NaN</td>\n      <td>USD</td>\n      <td>NaN</td>\n      <td>NaN</td>\n      <td>USA</td>\n      <td>Georgia</td>\n      <td>Atlanta</td>\n      <td>5-7 years</td>\n      <td>5-7 years</td>\n      <td>College degree</td>\n      <td>Man</td>\n      <td>White</td>\n    </tr>\n    <tr>\n      <th>28060</th>\n      <td>7/26/2024 11:20:45</td>\n      <td>18-24</td>\n      <td>Computing or Tech</td>\n      <td>IT</td>\n      <td>NaN</td>\n      <td>1700</td>\n      <td>10.0</td>\n      <td>USD</td>\n      <td>NaN</td>\n      <td>NaN</td>\n      <td>Burma</td>\n      <td>NaN</td>\n      <td>Yangon</td>\n      <td>2 - 4 years</td>\n      <td>1 year or less</td>\n      <td>Some college</td>\n      <td>Man</td>\n      <td>Asian or Asian American</td>\n    </tr>\n  </tbody>\n</table>\n<p>3777 rows × 18 columns</p>\n</div>"
     },
     "execution_count": 17,
     "metadata": {},
     "output_type": "execute_result"
    }
   ],
   "source": [
    "# Filtery filter for just the jobs that pay in USD!\n",
    "\n",
    "df_salary_tech = df_salary_tech[df_salary_tech['currency'] == 'USD']\n",
    "df_salary_tech"
   ]
  },
  {
   "cell_type": "markdown",
   "metadata": {},
   "source": [
    "What we really want know is how each U.S. city pays in tech. What value in `country` represents the United States of America?"
   ]
  },
  {
   "cell_type": "code",
   "execution_count": 18,
   "metadata": {},
   "outputs": [
    {
     "data": {
      "text/plain": "country\nUnited States               1576\nUSA                         1222\nUS                           412\nU.S.                         108\nUnited States of America      90\n                            ... \nPakistan                       1\nPuerto Rico                    1\nAmerica                        1\nUniyed states                  1\nBurma                          1\nName: count, Length: 76, dtype: int64"
     },
     "execution_count": 18,
     "metadata": {},
     "output_type": "execute_result"
    }
   ],
   "source": [
    "# We did filter for USD, so if we do a count of each unique country in descending count order, the relevant value(s) should show up at the top.\n",
    "\n",
    "df_salary_tech['country'].value_counts()"
   ]
  },
  {
   "cell_type": "markdown",
   "metadata": {},
   "source": [
    "### Clean the Data\n",
    "\n",
    "Well, we can’t get our answers with what we currently have, so you’ll have to make some changes."
   ]
  },
  {
   "cell_type": "markdown",
   "metadata": {},
   "source": [
    "Let’s not worry about anything below the first 5 values for now. Convert the top 5 to a single canonical value―say, `'US'`, which is nice and short."
   ]
  },
  {
   "cell_type": "code",
   "execution_count": 19,
   "outputs": [
    {
     "data": {
      "text/plain": "             timestamp    age           industry                        title  \\\n8   4/27/2021 11:03:01  45-54  Computing or Tech              Systems Analyst   \n43  4/27/2021 11:04:04  25-34  Computing or Tech  Principal Software Engineer   \n44  4/27/2021 11:04:04  25-34  Computing or Tech         Intelligence Analyst   \n46  4/27/2021 11:04:07  35-44  Computing or Tech             Mobile developer   \n47  4/27/2021 11:04:09  35-44  Computing or Tech      Product Design Director   \n\n                   title_context   salary  additional_compensation currency  \\\n8   Data developer/ETL Developer  112,000                  10000.0      USD   \n43                           NaN  187,500                   5000.0      USD   \n44                           NaN  110,000                  20000.0      USD   \n46                           NaN  144,600                   2500.0      USD   \n47                           NaN  200,850                  40000.0      USD   \n\n   other_currency                 salary_context country           state  \\\n8             NaN                            NaN      US        Missouri   \n43            NaN                            NaN      US    Pennsylvania   \n44            NaN  Around 20,000 a year in stock      US        Virginia   \n46            NaN                            NaN      US   Massachusetts   \n47            NaN                            NaN      US  North Carolina   \n\n             city      total_yoe      field_yoe highest_education_completed  \\\n8       St. Louis  21 - 30 years  21 - 30 years              College degree   \n43     Pittsburgh   8 - 10 years      5-7 years              College degree   \n44  Arlington, VA   8 - 10 years   8 - 10 years             Master's degree   \n46         Boston      5-7 years      5-7 years                         PhD   \n47    Chapel Hill  11 - 20 years  11 - 20 years              College degree   \n\n   gender   race  \n8   Woman  White  \n43  Woman  White  \n44    Man  White  \n46  Woman  White  \n47  Woman  White  ",
      "text/html": "<div>\n<style scoped>\n    .dataframe tbody tr th:only-of-type {\n        vertical-align: middle;\n    }\n\n    .dataframe tbody tr th {\n        vertical-align: top;\n    }\n\n    .dataframe thead th {\n        text-align: right;\n    }\n</style>\n<table border=\"1\" class=\"dataframe\">\n  <thead>\n    <tr style=\"text-align: right;\">\n      <th></th>\n      <th>timestamp</th>\n      <th>age</th>\n      <th>industry</th>\n      <th>title</th>\n      <th>title_context</th>\n      <th>salary</th>\n      <th>additional_compensation</th>\n      <th>currency</th>\n      <th>other_currency</th>\n      <th>salary_context</th>\n      <th>country</th>\n      <th>state</th>\n      <th>city</th>\n      <th>total_yoe</th>\n      <th>field_yoe</th>\n      <th>highest_education_completed</th>\n      <th>gender</th>\n      <th>race</th>\n    </tr>\n  </thead>\n  <tbody>\n    <tr>\n      <th>8</th>\n      <td>4/27/2021 11:03:01</td>\n      <td>45-54</td>\n      <td>Computing or Tech</td>\n      <td>Systems Analyst</td>\n      <td>Data developer/ETL Developer</td>\n      <td>112,000</td>\n      <td>10000.0</td>\n      <td>USD</td>\n      <td>NaN</td>\n      <td>NaN</td>\n      <td>US</td>\n      <td>Missouri</td>\n      <td>St. Louis</td>\n      <td>21 - 30 years</td>\n      <td>21 - 30 years</td>\n      <td>College degree</td>\n      <td>Woman</td>\n      <td>White</td>\n    </tr>\n    <tr>\n      <th>43</th>\n      <td>4/27/2021 11:04:04</td>\n      <td>25-34</td>\n      <td>Computing or Tech</td>\n      <td>Principal Software Engineer</td>\n      <td>NaN</td>\n      <td>187,500</td>\n      <td>5000.0</td>\n      <td>USD</td>\n      <td>NaN</td>\n      <td>NaN</td>\n      <td>US</td>\n      <td>Pennsylvania</td>\n      <td>Pittsburgh</td>\n      <td>8 - 10 years</td>\n      <td>5-7 years</td>\n      <td>College degree</td>\n      <td>Woman</td>\n      <td>White</td>\n    </tr>\n    <tr>\n      <th>44</th>\n      <td>4/27/2021 11:04:04</td>\n      <td>25-34</td>\n      <td>Computing or Tech</td>\n      <td>Intelligence Analyst</td>\n      <td>NaN</td>\n      <td>110,000</td>\n      <td>20000.0</td>\n      <td>USD</td>\n      <td>NaN</td>\n      <td>Around 20,000 a year in stock</td>\n      <td>US</td>\n      <td>Virginia</td>\n      <td>Arlington, VA</td>\n      <td>8 - 10 years</td>\n      <td>8 - 10 years</td>\n      <td>Master's degree</td>\n      <td>Man</td>\n      <td>White</td>\n    </tr>\n    <tr>\n      <th>46</th>\n      <td>4/27/2021 11:04:07</td>\n      <td>35-44</td>\n      <td>Computing or Tech</td>\n      <td>Mobile developer</td>\n      <td>NaN</td>\n      <td>144,600</td>\n      <td>2500.0</td>\n      <td>USD</td>\n      <td>NaN</td>\n      <td>NaN</td>\n      <td>US</td>\n      <td>Massachusetts</td>\n      <td>Boston</td>\n      <td>5-7 years</td>\n      <td>5-7 years</td>\n      <td>PhD</td>\n      <td>Woman</td>\n      <td>White</td>\n    </tr>\n    <tr>\n      <th>47</th>\n      <td>4/27/2021 11:04:09</td>\n      <td>35-44</td>\n      <td>Computing or Tech</td>\n      <td>Product Design Director</td>\n      <td>NaN</td>\n      <td>200,850</td>\n      <td>40000.0</td>\n      <td>USD</td>\n      <td>NaN</td>\n      <td>NaN</td>\n      <td>US</td>\n      <td>North Carolina</td>\n      <td>Chapel Hill</td>\n      <td>11 - 20 years</td>\n      <td>11 - 20 years</td>\n      <td>College degree</td>\n      <td>Woman</td>\n      <td>White</td>\n    </tr>\n  </tbody>\n</table>\n</div>"
     },
     "execution_count": 19,
     "metadata": {},
     "output_type": "execute_result"
    }
   ],
   "source": [
    "# Replace them all with 'US'.\n",
    "\n",
    "replace = ['united states of america', 'united states', 'usa', 'us', 'u.s.a.', 'u.s.a', 'u.s.', 'u.s']\n",
    "\n",
    "df_salary_tech['country'] = df_salary_tech['country'].apply(lambda x: 'US' if x.strip().lower() in replace else x)\n",
    "df_salary_tech.head()"
   ],
   "metadata": {
    "collapsed": false
   }
  },
  {
   "cell_type": "markdown",
   "source": [
    "Have a look at the count of each unique country again now."
   ],
   "metadata": {
    "collapsed": false
   }
  },
  {
   "cell_type": "code",
   "execution_count": 20,
   "metadata": {},
   "outputs": [
    {
     "data": {
      "text/plain": "country\nUS                         3710\nIsrael                        5\nCanada                        4\nNew Zealand                   2\nUnited State of America       2\nUnited Kingdom                2\nBrazil                        2\nSpain                         2\nFrance                        2\nUnitedStates                  2\nIndia                         2\nUnite States                  2\nAustralia                     2\nPoland                        2\ndenmark                       1\nNigeria                       1\nNigeria                       1\nNetherlands                   1\nChina                         1\nSan Francisco                 1\nss                            1\nRomania                       1\nJapan                         1\nColombia                      1\nUnites States                 1\nUnited Stares                 1\nGhana                         1\nAustralian                    1\nDenmark                       1\nJamaica                       1\nThailand                      1\nUnited Stateds                1\nPakistan                      1\nsingapore                     1\nUniyed states                 1\nAmerica                       1\nPuerto Rico                   1\nUnited State                  1\nCuba                          1\nDanmark                       1\nItaly                         1\nInternational                 1\nUnited Stated                 1\nRemote (philippines)          1\nSingapore                     1\nUruguay                       1\nMexico                        1\nCanada                        1\nISA                           1\nBurma                         1\nName: count, dtype: int64"
     },
     "execution_count": 20,
     "metadata": {},
     "output_type": "execute_result"
    }
   ],
   "source": [
    "# Count again.\n",
    "\n",
    "df_salary_tech['country'].value_counts()"
   ]
  },
  {
   "cell_type": "markdown",
   "metadata": {},
   "source": [
    "Did you notice anything interesting?"
   ]
  },
  {
   "cell_type": "code",
   "execution_count": 21,
   "metadata": {},
   "outputs": [],
   "source": [
    "# BONUS CREDIT: resolve [most of] those anomalous cases too without exhaustively taking every variant literally into account.\n",
    "\n",
    "import difflib # importing here bc i didnt know id need it till now so...\n",
    "\n",
    "def replace_similar_names(name, list_names, cutoff=0.6):\n",
    "    match = difflib.get_close_matches(name, list_names, n=1, cutoff=cutoff)\n",
    "\n",
    "    if match: return match[0]\n",
    "    return name\n",
    "\n",
    "# List of correct country names\n",
    "correct_names = ['united states of america', 'united states', 'usa', 'us', 'u.s.a.', 'u.s.a', 'u.s.', 'u.s']\n",
    "\n",
    "# Replace country names in df_salary_tech['country'] with their closest match in correct_names\n",
    "df_salary_tech['country'] = df_salary_tech['country'].apply(lambda x: replace_similar_names(x, correct_names, cutoff=0.6))\n",
    "\n",
    "# Replace all values in correct_names with 'US'\n",
    "df_salary_tech['country'] = df_salary_tech['country'].apply(lambda x: 'US' if x in correct_names else x)"
   ]
  },
  {
   "cell_type": "code",
   "execution_count": 22,
   "metadata": {},
   "outputs": [
    {
     "data": {
      "text/plain": "country\nUS                      3722\nIsrael                     5\nCanada                     4\nPoland                     2\nNew Zealand                2\nUnited Kingdom             2\nBrazil                     2\nSpain                      2\nIndia                      2\nFrance                     2\nAustralia                  2\ndenmark                    1\nColombia                   1\nChina                      1\nGhana                      1\nJamaica                    1\nNigeria                    1\nDenmark                    1\nss                         1\nAustralian                 1\nJapan                      1\nRomania                    1\nSan Francisco              1\nNigeria                    1\nThailand                   1\nsingapore                  1\nNetherlands                1\nPakistan                   1\nAmerica                    1\nISA                        1\nCanada                     1\nMexico                     1\nUruguay                    1\nSingapore                  1\nRemote (philippines)       1\nInternational              1\nItaly                      1\nDanmark                    1\nCuba                       1\nPuerto Rico                1\nBurma                      1\nName: count, dtype: int64"
     },
     "execution_count": 22,
     "metadata": {},
     "output_type": "execute_result"
    }
   ],
   "source": [
    "# BONUS CREDIT: if you’ve resolved it, let’s see how well you did by counting the number of instances of each unique value.\n",
    "\n",
    "df_salary_tech['country'].value_counts()"
   ]
  },
  {
   "cell_type": "markdown",
   "metadata": {},
   "source": [
    "It’s looking good so far. Let’s find out the minimum, mean, and maximum (in that order) salary by state, sorted by the mean in descending order."
   ]
  },
  {
   "cell_type": "code",
   "execution_count": 23,
   "metadata": {},
   "outputs": [],
   "source": [
    "# Find the minimum, mean, and maximum salary in USD by U.S. state.\n",
    "# df_salary_tech.groupby('state')['salary'].agg(['min', 'mean', 'max']).sort_values(by='mean', ascending=False)"
   ]
  },
  {
   "cell_type": "markdown",
   "metadata": {},
   "source": [
    "Well, pooh! We forgot that `salary` isn’t numeric. Something wrong must be fixed."
   ]
  },
  {
   "cell_type": "code",
   "execution_count": 24,
   "metadata": {},
   "outputs": [
    {
     "data": {
      "text/plain": "                timestamp    age           industry  \\\n8999   4/27/2021 17:02:03  35-44  Computing or Tech   \n11900   4/28/2021 6:41:31  45-54  Computing or Tech   \n15238  4/28/2021 16:45:53  18-24  Computing or Tech   \n15885  4/28/2021 17:22:37  25-34  Computing or Tech   \n18140  4/28/2021 22:49:19  25-34  Computing or Tech   \n\n                           title title_context  salary  \\\n8999   Software Development Lead           NaN     1.0   \n11900            Account Manager           NaN    55.0   \n15238           Product Marketer           NaN     0.0   \n15885       Chief Data Scientist           NaN   240.0   \n18140           Technical Writer           NaN    72.0   \n\n       additional_compensation currency other_currency  \\\n8999                  130000.0      USD            NaN   \n11900                     12.0      USD            NaN   \n15238                      0.0      USD            NaN   \n15885                    100.0      USD            NaN   \n18140                      0.0      USD            NaN   \n\n                                          salary_context country  \\\n8999                                                 NaN      US   \n11900                                  Base + commission      US   \n15238  Start up without funding. Compensation is in s...      US   \n15885  Additional compensation is expected value of o...      US   \n18140                                                NaN      US   \n\n               state         city       total_yoe       field_yoe  \\\n8999       Wisconsin      Madison    8 - 10 years    8 - 10 years   \n11900  New Hampshire   Manchester   21 - 30 years    8 - 10 years   \n15238     California  Santa Clara  1 year or less  1 year or less   \n15885     California      Oakland       5-7 years       5-7 years   \n18140     Washington   Silverdale    8 - 10 years     2 - 4 years   \n\n      highest_education_completed gender                     race  \n8999              Master's degree    Man                    White  \n11900              College degree  Woman                    White  \n15238              College degree    Man  Asian or Asian American  \n15885                         PhD    Man                    White  \n18140              College degree  Woman                    White  ",
      "text/html": "<div>\n<style scoped>\n    .dataframe tbody tr th:only-of-type {\n        vertical-align: middle;\n    }\n\n    .dataframe tbody tr th {\n        vertical-align: top;\n    }\n\n    .dataframe thead th {\n        text-align: right;\n    }\n</style>\n<table border=\"1\" class=\"dataframe\">\n  <thead>\n    <tr style=\"text-align: right;\">\n      <th></th>\n      <th>timestamp</th>\n      <th>age</th>\n      <th>industry</th>\n      <th>title</th>\n      <th>title_context</th>\n      <th>salary</th>\n      <th>additional_compensation</th>\n      <th>currency</th>\n      <th>other_currency</th>\n      <th>salary_context</th>\n      <th>country</th>\n      <th>state</th>\n      <th>city</th>\n      <th>total_yoe</th>\n      <th>field_yoe</th>\n      <th>highest_education_completed</th>\n      <th>gender</th>\n      <th>race</th>\n    </tr>\n  </thead>\n  <tbody>\n    <tr>\n      <th>8999</th>\n      <td>4/27/2021 17:02:03</td>\n      <td>35-44</td>\n      <td>Computing or Tech</td>\n      <td>Software Development Lead</td>\n      <td>NaN</td>\n      <td>1.0</td>\n      <td>130000.0</td>\n      <td>USD</td>\n      <td>NaN</td>\n      <td>NaN</td>\n      <td>US</td>\n      <td>Wisconsin</td>\n      <td>Madison</td>\n      <td>8 - 10 years</td>\n      <td>8 - 10 years</td>\n      <td>Master's degree</td>\n      <td>Man</td>\n      <td>White</td>\n    </tr>\n    <tr>\n      <th>11900</th>\n      <td>4/28/2021 6:41:31</td>\n      <td>45-54</td>\n      <td>Computing or Tech</td>\n      <td>Account Manager</td>\n      <td>NaN</td>\n      <td>55.0</td>\n      <td>12.0</td>\n      <td>USD</td>\n      <td>NaN</td>\n      <td>Base + commission</td>\n      <td>US</td>\n      <td>New Hampshire</td>\n      <td>Manchester</td>\n      <td>21 - 30 years</td>\n      <td>8 - 10 years</td>\n      <td>College degree</td>\n      <td>Woman</td>\n      <td>White</td>\n    </tr>\n    <tr>\n      <th>15238</th>\n      <td>4/28/2021 16:45:53</td>\n      <td>18-24</td>\n      <td>Computing or Tech</td>\n      <td>Product Marketer</td>\n      <td>NaN</td>\n      <td>0.0</td>\n      <td>0.0</td>\n      <td>USD</td>\n      <td>NaN</td>\n      <td>Start up without funding. Compensation is in s...</td>\n      <td>US</td>\n      <td>California</td>\n      <td>Santa Clara</td>\n      <td>1 year or less</td>\n      <td>1 year or less</td>\n      <td>College degree</td>\n      <td>Man</td>\n      <td>Asian or Asian American</td>\n    </tr>\n    <tr>\n      <th>15885</th>\n      <td>4/28/2021 17:22:37</td>\n      <td>25-34</td>\n      <td>Computing or Tech</td>\n      <td>Chief Data Scientist</td>\n      <td>NaN</td>\n      <td>240.0</td>\n      <td>100.0</td>\n      <td>USD</td>\n      <td>NaN</td>\n      <td>Additional compensation is expected value of o...</td>\n      <td>US</td>\n      <td>California</td>\n      <td>Oakland</td>\n      <td>5-7 years</td>\n      <td>5-7 years</td>\n      <td>PhD</td>\n      <td>Man</td>\n      <td>White</td>\n    </tr>\n    <tr>\n      <th>18140</th>\n      <td>4/28/2021 22:49:19</td>\n      <td>25-34</td>\n      <td>Computing or Tech</td>\n      <td>Technical Writer</td>\n      <td>NaN</td>\n      <td>72.0</td>\n      <td>0.0</td>\n      <td>USD</td>\n      <td>NaN</td>\n      <td>NaN</td>\n      <td>US</td>\n      <td>Washington</td>\n      <td>Silverdale</td>\n      <td>8 - 10 years</td>\n      <td>2 - 4 years</td>\n      <td>College degree</td>\n      <td>Woman</td>\n      <td>White</td>\n    </tr>\n  </tbody>\n</table>\n</div>"
     },
     "execution_count": 24,
     "metadata": {},
     "output_type": "execute_result"
    }
   ],
   "source": [
    "# Fix it.\n",
    "\n",
    "df_salary_tech['salary'] = pd.to_numeric(df_salary_tech['salary'], errors='coerce')\n",
    "df_salary_tech = df_salary_tech.dropna(subset=['salary'])\n",
    "df_salary_tech.head()"
   ]
  },
  {
   "cell_type": "markdown",
   "metadata": {},
   "source": [
    "Let’s try that again."
   ]
  },
  {
   "cell_type": "code",
   "execution_count": 25,
   "metadata": {},
   "outputs": [
    {
     "data": {
      "text/plain": "                                     min           mean        max\nstate                                                             \nMichigan, Texas, Washington     340000.0  340000.000000   340000.0\nFlorida                          28800.0  210711.000000  2600000.0\nCalifornia, Oregon              200000.0  200000.000000   200000.0\nCalifornia, Colorado            176000.0  176000.000000   176000.0\nDelaware                        169000.0  169000.000000   169000.0\nConnecticut                      68000.0  161610.000000   270000.0\nCalifornia                           0.0  153286.988827   520000.0\nNew York                         14000.0  146594.112150   590000.0\nWisconsin                            1.0  145806.888889   920000.0\nDistrict of Columbia             59000.0  142923.076923   200000.0\nNew Jersey, New York            135000.0  137500.000000   140000.0\nOhio                             42000.0  137066.666667   954000.0\nWashington                          72.0  136923.916667   300000.0\nMassachusetts                    41000.0  125899.155844   400000.0\nNevada                          107100.0  124550.000000   142000.0\nNew Jersey                       67500.0  124090.909091   192000.0\nOregon                           16200.0  122640.000000   230000.0\nWest Virginia                   120000.0  120000.000000   120000.0\nMaryland                         62000.0  119955.461538   176000.0\nIllinois                         36000.0  117555.571429   228800.0\nAlabama                          35000.0  117400.000000   350000.0\nLouisiana, Washington           117000.0  117000.000000   117000.0\nPennsylvania                     52000.0  116826.388889   237000.0\nGeorgia                          29120.0  115297.647059   242000.0\nVirginia                         58750.0  115086.696970   378000.0\nMontana                          65000.0  112666.666667   145000.0\nKansas                           41500.0  109666.666667   167000.0\nColorado                         49400.0  109291.891892   165000.0\nDistrict of Columbia, Virginia  109200.0  109200.000000   109200.0\nVermont                          91250.0  105625.000000   120000.0\nIdaho                            74860.0  105465.000000   170000.0\nUtah                             33280.0  105023.333333   176000.0\nMaine                            50000.0  103833.333333   173000.0\nTexas                            10700.0  103685.245902   190000.0\nKentucky                         62000.0  102500.000000   125000.0\nIowa                             63000.0  101200.000000   142000.0\nMinnesota                        52124.0  101064.941176   210000.0\nRhode Island                     76000.0   99475.000000   122950.0\nNorth Carolina                   29000.0   97841.666667   165000.0\nArizona                          35000.0   97833.333333   145000.0\nMichigan                         41600.0   95758.823529   235000.0\nNew Mexico                       82000.0   95733.333333   115200.0\nTennessee                        61500.0   91750.000000   144000.0\nNew Hampshire                       55.0   87175.833333   130000.0\nOklahoma                         36958.0   84802.571429   180000.0\nIndiana                          15000.0   82875.000000   140000.0\nCalifornia, Maryland             81500.0   81500.000000    81500.0\nLouisiana                        75000.0   80500.000000    84000.0\nMissouri                            80.0   80339.923077   200000.0\nNebraska                         43000.0   76736.000000   140000.0\nArkansas                             4.0   58001.000000    95000.0\nSouth Carolina                   40000.0   40000.000000    40000.0",
      "text/html": "<div>\n<style scoped>\n    .dataframe tbody tr th:only-of-type {\n        vertical-align: middle;\n    }\n\n    .dataframe tbody tr th {\n        vertical-align: top;\n    }\n\n    .dataframe thead th {\n        text-align: right;\n    }\n</style>\n<table border=\"1\" class=\"dataframe\">\n  <thead>\n    <tr style=\"text-align: right;\">\n      <th></th>\n      <th>min</th>\n      <th>mean</th>\n      <th>max</th>\n    </tr>\n    <tr>\n      <th>state</th>\n      <th></th>\n      <th></th>\n      <th></th>\n    </tr>\n  </thead>\n  <tbody>\n    <tr>\n      <th>Michigan, Texas, Washington</th>\n      <td>340000.0</td>\n      <td>340000.000000</td>\n      <td>340000.0</td>\n    </tr>\n    <tr>\n      <th>Florida</th>\n      <td>28800.0</td>\n      <td>210711.000000</td>\n      <td>2600000.0</td>\n    </tr>\n    <tr>\n      <th>California, Oregon</th>\n      <td>200000.0</td>\n      <td>200000.000000</td>\n      <td>200000.0</td>\n    </tr>\n    <tr>\n      <th>California, Colorado</th>\n      <td>176000.0</td>\n      <td>176000.000000</td>\n      <td>176000.0</td>\n    </tr>\n    <tr>\n      <th>Delaware</th>\n      <td>169000.0</td>\n      <td>169000.000000</td>\n      <td>169000.0</td>\n    </tr>\n    <tr>\n      <th>Connecticut</th>\n      <td>68000.0</td>\n      <td>161610.000000</td>\n      <td>270000.0</td>\n    </tr>\n    <tr>\n      <th>California</th>\n      <td>0.0</td>\n      <td>153286.988827</td>\n      <td>520000.0</td>\n    </tr>\n    <tr>\n      <th>New York</th>\n      <td>14000.0</td>\n      <td>146594.112150</td>\n      <td>590000.0</td>\n    </tr>\n    <tr>\n      <th>Wisconsin</th>\n      <td>1.0</td>\n      <td>145806.888889</td>\n      <td>920000.0</td>\n    </tr>\n    <tr>\n      <th>District of Columbia</th>\n      <td>59000.0</td>\n      <td>142923.076923</td>\n      <td>200000.0</td>\n    </tr>\n    <tr>\n      <th>New Jersey, New York</th>\n      <td>135000.0</td>\n      <td>137500.000000</td>\n      <td>140000.0</td>\n    </tr>\n    <tr>\n      <th>Ohio</th>\n      <td>42000.0</td>\n      <td>137066.666667</td>\n      <td>954000.0</td>\n    </tr>\n    <tr>\n      <th>Washington</th>\n      <td>72.0</td>\n      <td>136923.916667</td>\n      <td>300000.0</td>\n    </tr>\n    <tr>\n      <th>Massachusetts</th>\n      <td>41000.0</td>\n      <td>125899.155844</td>\n      <td>400000.0</td>\n    </tr>\n    <tr>\n      <th>Nevada</th>\n      <td>107100.0</td>\n      <td>124550.000000</td>\n      <td>142000.0</td>\n    </tr>\n    <tr>\n      <th>New Jersey</th>\n      <td>67500.0</td>\n      <td>124090.909091</td>\n      <td>192000.0</td>\n    </tr>\n    <tr>\n      <th>Oregon</th>\n      <td>16200.0</td>\n      <td>122640.000000</td>\n      <td>230000.0</td>\n    </tr>\n    <tr>\n      <th>West Virginia</th>\n      <td>120000.0</td>\n      <td>120000.000000</td>\n      <td>120000.0</td>\n    </tr>\n    <tr>\n      <th>Maryland</th>\n      <td>62000.0</td>\n      <td>119955.461538</td>\n      <td>176000.0</td>\n    </tr>\n    <tr>\n      <th>Illinois</th>\n      <td>36000.0</td>\n      <td>117555.571429</td>\n      <td>228800.0</td>\n    </tr>\n    <tr>\n      <th>Alabama</th>\n      <td>35000.0</td>\n      <td>117400.000000</td>\n      <td>350000.0</td>\n    </tr>\n    <tr>\n      <th>Louisiana, Washington</th>\n      <td>117000.0</td>\n      <td>117000.000000</td>\n      <td>117000.0</td>\n    </tr>\n    <tr>\n      <th>Pennsylvania</th>\n      <td>52000.0</td>\n      <td>116826.388889</td>\n      <td>237000.0</td>\n    </tr>\n    <tr>\n      <th>Georgia</th>\n      <td>29120.0</td>\n      <td>115297.647059</td>\n      <td>242000.0</td>\n    </tr>\n    <tr>\n      <th>Virginia</th>\n      <td>58750.0</td>\n      <td>115086.696970</td>\n      <td>378000.0</td>\n    </tr>\n    <tr>\n      <th>Montana</th>\n      <td>65000.0</td>\n      <td>112666.666667</td>\n      <td>145000.0</td>\n    </tr>\n    <tr>\n      <th>Kansas</th>\n      <td>41500.0</td>\n      <td>109666.666667</td>\n      <td>167000.0</td>\n    </tr>\n    <tr>\n      <th>Colorado</th>\n      <td>49400.0</td>\n      <td>109291.891892</td>\n      <td>165000.0</td>\n    </tr>\n    <tr>\n      <th>District of Columbia, Virginia</th>\n      <td>109200.0</td>\n      <td>109200.000000</td>\n      <td>109200.0</td>\n    </tr>\n    <tr>\n      <th>Vermont</th>\n      <td>91250.0</td>\n      <td>105625.000000</td>\n      <td>120000.0</td>\n    </tr>\n    <tr>\n      <th>Idaho</th>\n      <td>74860.0</td>\n      <td>105465.000000</td>\n      <td>170000.0</td>\n    </tr>\n    <tr>\n      <th>Utah</th>\n      <td>33280.0</td>\n      <td>105023.333333</td>\n      <td>176000.0</td>\n    </tr>\n    <tr>\n      <th>Maine</th>\n      <td>50000.0</td>\n      <td>103833.333333</td>\n      <td>173000.0</td>\n    </tr>\n    <tr>\n      <th>Texas</th>\n      <td>10700.0</td>\n      <td>103685.245902</td>\n      <td>190000.0</td>\n    </tr>\n    <tr>\n      <th>Kentucky</th>\n      <td>62000.0</td>\n      <td>102500.000000</td>\n      <td>125000.0</td>\n    </tr>\n    <tr>\n      <th>Iowa</th>\n      <td>63000.0</td>\n      <td>101200.000000</td>\n      <td>142000.0</td>\n    </tr>\n    <tr>\n      <th>Minnesota</th>\n      <td>52124.0</td>\n      <td>101064.941176</td>\n      <td>210000.0</td>\n    </tr>\n    <tr>\n      <th>Rhode Island</th>\n      <td>76000.0</td>\n      <td>99475.000000</td>\n      <td>122950.0</td>\n    </tr>\n    <tr>\n      <th>North Carolina</th>\n      <td>29000.0</td>\n      <td>97841.666667</td>\n      <td>165000.0</td>\n    </tr>\n    <tr>\n      <th>Arizona</th>\n      <td>35000.0</td>\n      <td>97833.333333</td>\n      <td>145000.0</td>\n    </tr>\n    <tr>\n      <th>Michigan</th>\n      <td>41600.0</td>\n      <td>95758.823529</td>\n      <td>235000.0</td>\n    </tr>\n    <tr>\n      <th>New Mexico</th>\n      <td>82000.0</td>\n      <td>95733.333333</td>\n      <td>115200.0</td>\n    </tr>\n    <tr>\n      <th>Tennessee</th>\n      <td>61500.0</td>\n      <td>91750.000000</td>\n      <td>144000.0</td>\n    </tr>\n    <tr>\n      <th>New Hampshire</th>\n      <td>55.0</td>\n      <td>87175.833333</td>\n      <td>130000.0</td>\n    </tr>\n    <tr>\n      <th>Oklahoma</th>\n      <td>36958.0</td>\n      <td>84802.571429</td>\n      <td>180000.0</td>\n    </tr>\n    <tr>\n      <th>Indiana</th>\n      <td>15000.0</td>\n      <td>82875.000000</td>\n      <td>140000.0</td>\n    </tr>\n    <tr>\n      <th>California, Maryland</th>\n      <td>81500.0</td>\n      <td>81500.000000</td>\n      <td>81500.0</td>\n    </tr>\n    <tr>\n      <th>Louisiana</th>\n      <td>75000.0</td>\n      <td>80500.000000</td>\n      <td>84000.0</td>\n    </tr>\n    <tr>\n      <th>Missouri</th>\n      <td>80.0</td>\n      <td>80339.923077</td>\n      <td>200000.0</td>\n    </tr>\n    <tr>\n      <th>Nebraska</th>\n      <td>43000.0</td>\n      <td>76736.000000</td>\n      <td>140000.0</td>\n    </tr>\n    <tr>\n      <th>Arkansas</th>\n      <td>4.0</td>\n      <td>58001.000000</td>\n      <td>95000.0</td>\n    </tr>\n    <tr>\n      <th>South Carolina</th>\n      <td>40000.0</td>\n      <td>40000.000000</td>\n      <td>40000.0</td>\n    </tr>\n  </tbody>\n</table>\n</div>"
     },
     "execution_count": 25,
     "metadata": {},
     "output_type": "execute_result"
    }
   ],
   "source": [
    "# Try it again. Yeah!\n",
    "\n",
    "df_salary_tech.groupby('state')['salary'].agg(['min', 'mean', 'max']).sort_values(by='mean', ascending=False)"
   ]
  },
  {
   "cell_type": "markdown",
   "metadata": {},
   "source": [
    "That did the trick! Now let’s narrow this to data 2021 and 2022 just because (lel). *(Hint: that timestamp column may not be a temporal type right now.)*"
   ]
  },
  {
   "cell_type": "code",
   "execution_count": 26,
   "metadata": {},
   "outputs": [
    {
     "name": "stderr",
     "output_type": "stream",
     "text": [
      "C:\\Users\\mehed\\AppData\\Local\\Temp\\ipykernel_1132\\761062591.py:3: SettingWithCopyWarning: \n",
      "A value is trying to be set on a copy of a slice from a DataFrame.\n",
      "Try using .loc[row_indexer,col_indexer] = value instead\n",
      "\n",
      "See the caveats in the documentation: https://pandas.pydata.org/pandas-docs/stable/user_guide/indexing.html#returning-a-view-versus-a-copy\n",
      "  df_salary_tech['timestamp'] = pd.to_datetime(df_salary_tech['timestamp'], errors='coerce')\n"
     ]
    },
    {
     "data": {
      "text/plain": "                timestamp    age           industry  \\\n8999  2021-04-27 17:02:03  35-44  Computing or Tech   \n11900 2021-04-28 06:41:31  45-54  Computing or Tech   \n15238 2021-04-28 16:45:53  18-24  Computing or Tech   \n15885 2021-04-28 17:22:37  25-34  Computing or Tech   \n18140 2021-04-28 22:49:19  25-34  Computing or Tech   \n\n                           title title_context  salary  \\\n8999   Software Development Lead           NaN     1.0   \n11900            Account Manager           NaN    55.0   \n15238           Product Marketer           NaN     0.0   \n15885       Chief Data Scientist           NaN   240.0   \n18140           Technical Writer           NaN    72.0   \n\n       additional_compensation currency other_currency  \\\n8999                  130000.0      USD            NaN   \n11900                     12.0      USD            NaN   \n15238                      0.0      USD            NaN   \n15885                    100.0      USD            NaN   \n18140                      0.0      USD            NaN   \n\n                                          salary_context country  \\\n8999                                                 NaN      US   \n11900                                  Base + commission      US   \n15238  Start up without funding. Compensation is in s...      US   \n15885  Additional compensation is expected value of o...      US   \n18140                                                NaN      US   \n\n               state         city       total_yoe       field_yoe  \\\n8999       Wisconsin      Madison    8 - 10 years    8 - 10 years   \n11900  New Hampshire   Manchester   21 - 30 years    8 - 10 years   \n15238     California  Santa Clara  1 year or less  1 year or less   \n15885     California      Oakland       5-7 years       5-7 years   \n18140     Washington   Silverdale    8 - 10 years     2 - 4 years   \n\n      highest_education_completed gender                     race  \n8999              Master's degree    Man                    White  \n11900              College degree  Woman                    White  \n15238              College degree    Man  Asian or Asian American  \n15885                         PhD    Man                    White  \n18140              College degree  Woman                    White  ",
      "text/html": "<div>\n<style scoped>\n    .dataframe tbody tr th:only-of-type {\n        vertical-align: middle;\n    }\n\n    .dataframe tbody tr th {\n        vertical-align: top;\n    }\n\n    .dataframe thead th {\n        text-align: right;\n    }\n</style>\n<table border=\"1\" class=\"dataframe\">\n  <thead>\n    <tr style=\"text-align: right;\">\n      <th></th>\n      <th>timestamp</th>\n      <th>age</th>\n      <th>industry</th>\n      <th>title</th>\n      <th>title_context</th>\n      <th>salary</th>\n      <th>additional_compensation</th>\n      <th>currency</th>\n      <th>other_currency</th>\n      <th>salary_context</th>\n      <th>country</th>\n      <th>state</th>\n      <th>city</th>\n      <th>total_yoe</th>\n      <th>field_yoe</th>\n      <th>highest_education_completed</th>\n      <th>gender</th>\n      <th>race</th>\n    </tr>\n  </thead>\n  <tbody>\n    <tr>\n      <th>8999</th>\n      <td>2021-04-27 17:02:03</td>\n      <td>35-44</td>\n      <td>Computing or Tech</td>\n      <td>Software Development Lead</td>\n      <td>NaN</td>\n      <td>1.0</td>\n      <td>130000.0</td>\n      <td>USD</td>\n      <td>NaN</td>\n      <td>NaN</td>\n      <td>US</td>\n      <td>Wisconsin</td>\n      <td>Madison</td>\n      <td>8 - 10 years</td>\n      <td>8 - 10 years</td>\n      <td>Master's degree</td>\n      <td>Man</td>\n      <td>White</td>\n    </tr>\n    <tr>\n      <th>11900</th>\n      <td>2021-04-28 06:41:31</td>\n      <td>45-54</td>\n      <td>Computing or Tech</td>\n      <td>Account Manager</td>\n      <td>NaN</td>\n      <td>55.0</td>\n      <td>12.0</td>\n      <td>USD</td>\n      <td>NaN</td>\n      <td>Base + commission</td>\n      <td>US</td>\n      <td>New Hampshire</td>\n      <td>Manchester</td>\n      <td>21 - 30 years</td>\n      <td>8 - 10 years</td>\n      <td>College degree</td>\n      <td>Woman</td>\n      <td>White</td>\n    </tr>\n    <tr>\n      <th>15238</th>\n      <td>2021-04-28 16:45:53</td>\n      <td>18-24</td>\n      <td>Computing or Tech</td>\n      <td>Product Marketer</td>\n      <td>NaN</td>\n      <td>0.0</td>\n      <td>0.0</td>\n      <td>USD</td>\n      <td>NaN</td>\n      <td>Start up without funding. Compensation is in s...</td>\n      <td>US</td>\n      <td>California</td>\n      <td>Santa Clara</td>\n      <td>1 year or less</td>\n      <td>1 year or less</td>\n      <td>College degree</td>\n      <td>Man</td>\n      <td>Asian or Asian American</td>\n    </tr>\n    <tr>\n      <th>15885</th>\n      <td>2021-04-28 17:22:37</td>\n      <td>25-34</td>\n      <td>Computing or Tech</td>\n      <td>Chief Data Scientist</td>\n      <td>NaN</td>\n      <td>240.0</td>\n      <td>100.0</td>\n      <td>USD</td>\n      <td>NaN</td>\n      <td>Additional compensation is expected value of o...</td>\n      <td>US</td>\n      <td>California</td>\n      <td>Oakland</td>\n      <td>5-7 years</td>\n      <td>5-7 years</td>\n      <td>PhD</td>\n      <td>Man</td>\n      <td>White</td>\n    </tr>\n    <tr>\n      <th>18140</th>\n      <td>2021-04-28 22:49:19</td>\n      <td>25-34</td>\n      <td>Computing or Tech</td>\n      <td>Technical Writer</td>\n      <td>NaN</td>\n      <td>72.0</td>\n      <td>0.0</td>\n      <td>USD</td>\n      <td>NaN</td>\n      <td>NaN</td>\n      <td>US</td>\n      <td>Washington</td>\n      <td>Silverdale</td>\n      <td>8 - 10 years</td>\n      <td>2 - 4 years</td>\n      <td>College degree</td>\n      <td>Woman</td>\n      <td>White</td>\n    </tr>\n  </tbody>\n</table>\n</div>"
     },
     "execution_count": 26,
     "metadata": {},
     "output_type": "execute_result"
    }
   ],
   "source": [
    "# Filter the data to within 2021, 2022, or 2023, saving the DataFrame to a new variable, and generate the summary again.\n",
    "\n",
    "df_salary_tech['timestamp'] = pd.to_datetime(df_salary_tech['timestamp'], errors='coerce')\n",
    "df_salary_tech = df_salary_tech.dropna(subset=['timestamp'])\n",
    "df_salary_tech_latest = df_salary_tech[df_salary_tech['timestamp'].dt.year.isin([2021, 2022, 2023])]\n",
    "df_salary_tech_latest.head()"
   ]
  },
  {
   "cell_type": "markdown",
   "metadata": {},
   "source": [
    "## Bonus\n",
    "\n",
    "Clearly, we do not have enough data to produce useful figures for the level of specificity you’ve now reached. What do you notice about Delaware and West Virginia?\n",
    "\n",
    "Let’s back out a bit and return to `df_salary` (which was the loaded data with renamed columns but *sans* filtering)."
   ]
  },
  {
   "cell_type": "markdown",
   "metadata": {},
   "source": [
    "### Bonus #0\n",
    "\n",
    "Apply the same steps as before to `df_salary`, but do not filter for any specific industry. Do perform the other data cleaning stuff, and get to a point where you can generate the minimum, mean, and maximum by state."
   ]
  },
  {
   "cell_type": "code",
   "execution_count": 27,
   "metadata": {},
   "outputs": [],
   "source": [
    "df_salary['salary'] = pd.to_numeric(df_salary['salary'], errors='coerce')\n",
    "df_salary = df_salary.dropna(subset=['salary'])\n",
    "df_salary = df_salary.groupby('state')['salary'].agg(['min', 'mean', 'max']).reset_index().sort_values(by='mean', ascending=False)"
   ]
  },
  {
   "cell_type": "markdown",
   "metadata": {},
   "source": [
    "### Bonus #1\n",
    "\n",
    "This time, format the table output nicely (*$12,345.00*) without modifying the values in the `DataFrame`. That is, `df_salary` should be identical before versus after running your code.\n",
    "\n",
    "(*Hint: if you run into an error about `jinja2` perhaps you need to `pip install` something.*)"
   ]
  },
  {
   "cell_type": "code",
   "execution_count": 28,
   "metadata": {},
   "outputs": [
    {
     "ename": "ValueError",
     "evalue": "Unknown format code 'f' for object of type 'str'",
     "output_type": "error",
     "traceback": [
      "\u001B[1;31m---------------------------------------------------------------------------\u001B[0m",
      "\u001B[1;31mValueError\u001B[0m                                Traceback (most recent call last)",
      "File \u001B[1;32m~\\AppData\\Local\\Programs\\Python\\Python311\\Lib\\site-packages\\IPython\\core\\formatters.py:347\u001B[0m, in \u001B[0;36mBaseFormatter.__call__\u001B[1;34m(self, obj)\u001B[0m\n\u001B[0;32m    345\u001B[0m     method \u001B[38;5;241m=\u001B[39m get_real_method(obj, \u001B[38;5;28mself\u001B[39m\u001B[38;5;241m.\u001B[39mprint_method)\n\u001B[0;32m    346\u001B[0m     \u001B[38;5;28;01mif\u001B[39;00m method \u001B[38;5;129;01mis\u001B[39;00m \u001B[38;5;129;01mnot\u001B[39;00m \u001B[38;5;28;01mNone\u001B[39;00m:\n\u001B[1;32m--> 347\u001B[0m         \u001B[38;5;28;01mreturn\u001B[39;00m \u001B[43mmethod\u001B[49m\u001B[43m(\u001B[49m\u001B[43m)\u001B[49m\n\u001B[0;32m    348\u001B[0m     \u001B[38;5;28;01mreturn\u001B[39;00m \u001B[38;5;28;01mNone\u001B[39;00m\n\u001B[0;32m    349\u001B[0m \u001B[38;5;28;01melse\u001B[39;00m:\n",
      "File \u001B[1;32m~\\AppData\\Local\\Programs\\Python\\Python311\\Lib\\site-packages\\pandas\\io\\formats\\style.py:405\u001B[0m, in \u001B[0;36mStyler._repr_html_\u001B[1;34m(self)\u001B[0m\n\u001B[0;32m    400\u001B[0m \u001B[38;5;250m\u001B[39m\u001B[38;5;124;03m\"\"\"\u001B[39;00m\n\u001B[0;32m    401\u001B[0m \u001B[38;5;124;03mHooks into Jupyter notebook rich display system, which calls _repr_html_ by\u001B[39;00m\n\u001B[0;32m    402\u001B[0m \u001B[38;5;124;03mdefault if an object is returned at the end of a cell.\u001B[39;00m\n\u001B[0;32m    403\u001B[0m \u001B[38;5;124;03m\"\"\"\u001B[39;00m\n\u001B[0;32m    404\u001B[0m \u001B[38;5;28;01mif\u001B[39;00m get_option(\u001B[38;5;124m\"\u001B[39m\u001B[38;5;124mstyler.render.repr\u001B[39m\u001B[38;5;124m\"\u001B[39m) \u001B[38;5;241m==\u001B[39m \u001B[38;5;124m\"\u001B[39m\u001B[38;5;124mhtml\u001B[39m\u001B[38;5;124m\"\u001B[39m:\n\u001B[1;32m--> 405\u001B[0m     \u001B[38;5;28;01mreturn\u001B[39;00m \u001B[38;5;28;43mself\u001B[39;49m\u001B[38;5;241;43m.\u001B[39;49m\u001B[43mto_html\u001B[49m\u001B[43m(\u001B[49m\u001B[43m)\u001B[49m\n\u001B[0;32m    406\u001B[0m \u001B[38;5;28;01mreturn\u001B[39;00m \u001B[38;5;28;01mNone\u001B[39;00m\n",
      "File \u001B[1;32m~\\AppData\\Local\\Programs\\Python\\Python311\\Lib\\site-packages\\pandas\\io\\formats\\style.py:1345\u001B[0m, in \u001B[0;36mStyler.to_html\u001B[1;34m(self, buf, table_uuid, table_attributes, sparse_index, sparse_columns, bold_headers, caption, max_rows, max_columns, encoding, doctype_html, exclude_styles, **kwargs)\u001B[0m\n\u001B[0;32m   1342\u001B[0m     obj\u001B[38;5;241m.\u001B[39mset_caption(caption)\n\u001B[0;32m   1344\u001B[0m \u001B[38;5;66;03m# Build HTML string..\u001B[39;00m\n\u001B[1;32m-> 1345\u001B[0m html \u001B[38;5;241m=\u001B[39m \u001B[43mobj\u001B[49m\u001B[38;5;241;43m.\u001B[39;49m\u001B[43m_render_html\u001B[49m\u001B[43m(\u001B[49m\n\u001B[0;32m   1346\u001B[0m \u001B[43m    \u001B[49m\u001B[43msparse_index\u001B[49m\u001B[38;5;241;43m=\u001B[39;49m\u001B[43msparse_index\u001B[49m\u001B[43m,\u001B[49m\n\u001B[0;32m   1347\u001B[0m \u001B[43m    \u001B[49m\u001B[43msparse_columns\u001B[49m\u001B[38;5;241;43m=\u001B[39;49m\u001B[43msparse_columns\u001B[49m\u001B[43m,\u001B[49m\n\u001B[0;32m   1348\u001B[0m \u001B[43m    \u001B[49m\u001B[43mmax_rows\u001B[49m\u001B[38;5;241;43m=\u001B[39;49m\u001B[43mmax_rows\u001B[49m\u001B[43m,\u001B[49m\n\u001B[0;32m   1349\u001B[0m \u001B[43m    \u001B[49m\u001B[43mmax_cols\u001B[49m\u001B[38;5;241;43m=\u001B[39;49m\u001B[43mmax_columns\u001B[49m\u001B[43m,\u001B[49m\n\u001B[0;32m   1350\u001B[0m \u001B[43m    \u001B[49m\u001B[43mexclude_styles\u001B[49m\u001B[38;5;241;43m=\u001B[39;49m\u001B[43mexclude_styles\u001B[49m\u001B[43m,\u001B[49m\n\u001B[0;32m   1351\u001B[0m \u001B[43m    \u001B[49m\u001B[43mencoding\u001B[49m\u001B[38;5;241;43m=\u001B[39;49m\u001B[43mencoding\u001B[49m\u001B[43m \u001B[49m\u001B[38;5;129;43;01mor\u001B[39;49;00m\u001B[43m \u001B[49m\u001B[43mget_option\u001B[49m\u001B[43m(\u001B[49m\u001B[38;5;124;43m\"\u001B[39;49m\u001B[38;5;124;43mstyler.render.encoding\u001B[39;49m\u001B[38;5;124;43m\"\u001B[39;49m\u001B[43m)\u001B[49m\u001B[43m,\u001B[49m\n\u001B[0;32m   1352\u001B[0m \u001B[43m    \u001B[49m\u001B[43mdoctype_html\u001B[49m\u001B[38;5;241;43m=\u001B[39;49m\u001B[43mdoctype_html\u001B[49m\u001B[43m,\u001B[49m\n\u001B[0;32m   1353\u001B[0m \u001B[43m    \u001B[49m\u001B[38;5;241;43m*\u001B[39;49m\u001B[38;5;241;43m*\u001B[39;49m\u001B[43mkwargs\u001B[49m\u001B[43m,\u001B[49m\n\u001B[0;32m   1354\u001B[0m \u001B[43m\u001B[49m\u001B[43m)\u001B[49m\n\u001B[0;32m   1356\u001B[0m \u001B[38;5;28;01mreturn\u001B[39;00m save_to_buffer(\n\u001B[0;32m   1357\u001B[0m     html, buf\u001B[38;5;241m=\u001B[39mbuf, encoding\u001B[38;5;241m=\u001B[39m(encoding \u001B[38;5;28;01mif\u001B[39;00m buf \u001B[38;5;129;01mis\u001B[39;00m \u001B[38;5;129;01mnot\u001B[39;00m \u001B[38;5;28;01mNone\u001B[39;00m \u001B[38;5;28;01melse\u001B[39;00m \u001B[38;5;28;01mNone\u001B[39;00m)\n\u001B[0;32m   1358\u001B[0m )\n",
      "File \u001B[1;32m~\\AppData\\Local\\Programs\\Python\\Python311\\Lib\\site-packages\\pandas\\io\\formats\\style_render.py:204\u001B[0m, in \u001B[0;36mStylerRenderer._render_html\u001B[1;34m(self, sparse_index, sparse_columns, max_rows, max_cols, **kwargs)\u001B[0m\n\u001B[0;32m    192\u001B[0m \u001B[38;5;28;01mdef\u001B[39;00m \u001B[38;5;21m_render_html\u001B[39m(\n\u001B[0;32m    193\u001B[0m     \u001B[38;5;28mself\u001B[39m,\n\u001B[0;32m    194\u001B[0m     sparse_index: \u001B[38;5;28mbool\u001B[39m,\n\u001B[1;32m   (...)\u001B[0m\n\u001B[0;32m    198\u001B[0m     \u001B[38;5;241m*\u001B[39m\u001B[38;5;241m*\u001B[39mkwargs,\n\u001B[0;32m    199\u001B[0m ) \u001B[38;5;241m-\u001B[39m\u001B[38;5;241m>\u001B[39m \u001B[38;5;28mstr\u001B[39m:\n\u001B[0;32m    200\u001B[0m \u001B[38;5;250m    \u001B[39m\u001B[38;5;124;03m\"\"\"\u001B[39;00m\n\u001B[0;32m    201\u001B[0m \u001B[38;5;124;03m    Renders the ``Styler`` including all applied styles to HTML.\u001B[39;00m\n\u001B[0;32m    202\u001B[0m \u001B[38;5;124;03m    Generates a dict with necessary kwargs passed to jinja2 template.\u001B[39;00m\n\u001B[0;32m    203\u001B[0m \u001B[38;5;124;03m    \"\"\"\u001B[39;00m\n\u001B[1;32m--> 204\u001B[0m     d \u001B[38;5;241m=\u001B[39m \u001B[38;5;28;43mself\u001B[39;49m\u001B[38;5;241;43m.\u001B[39;49m\u001B[43m_render\u001B[49m\u001B[43m(\u001B[49m\u001B[43msparse_index\u001B[49m\u001B[43m,\u001B[49m\u001B[43m \u001B[49m\u001B[43msparse_columns\u001B[49m\u001B[43m,\u001B[49m\u001B[43m \u001B[49m\u001B[43mmax_rows\u001B[49m\u001B[43m,\u001B[49m\u001B[43m \u001B[49m\u001B[43mmax_cols\u001B[49m\u001B[43m,\u001B[49m\u001B[43m \u001B[49m\u001B[38;5;124;43m\"\u001B[39;49m\u001B[38;5;124;43m&nbsp;\u001B[39;49m\u001B[38;5;124;43m\"\u001B[39;49m\u001B[43m)\u001B[49m\n\u001B[0;32m    205\u001B[0m     d\u001B[38;5;241m.\u001B[39mupdate(kwargs)\n\u001B[0;32m    206\u001B[0m     \u001B[38;5;28;01mreturn\u001B[39;00m \u001B[38;5;28mself\u001B[39m\u001B[38;5;241m.\u001B[39mtemplate_html\u001B[38;5;241m.\u001B[39mrender(\n\u001B[0;32m    207\u001B[0m         \u001B[38;5;241m*\u001B[39m\u001B[38;5;241m*\u001B[39md,\n\u001B[0;32m    208\u001B[0m         html_table_tpl\u001B[38;5;241m=\u001B[39m\u001B[38;5;28mself\u001B[39m\u001B[38;5;241m.\u001B[39mtemplate_html_table,\n\u001B[0;32m    209\u001B[0m         html_style_tpl\u001B[38;5;241m=\u001B[39m\u001B[38;5;28mself\u001B[39m\u001B[38;5;241m.\u001B[39mtemplate_html_style,\n\u001B[0;32m    210\u001B[0m     )\n",
      "File \u001B[1;32m~\\AppData\\Local\\Programs\\Python\\Python311\\Lib\\site-packages\\pandas\\io\\formats\\style_render.py:187\u001B[0m, in \u001B[0;36mStylerRenderer._render\u001B[1;34m(self, sparse_index, sparse_columns, max_rows, max_cols, blank)\u001B[0m\n\u001B[0;32m    183\u001B[0m         \u001B[38;5;28mself\u001B[39m\u001B[38;5;241m.\u001B[39mctx_index[(r \u001B[38;5;241m+\u001B[39m ctx_len, c)] \u001B[38;5;241m=\u001B[39m v\n\u001B[0;32m    185\u001B[0m     ctx_len \u001B[38;5;241m+\u001B[39m\u001B[38;5;241m=\u001B[39m \u001B[38;5;28mlen\u001B[39m(concatenated\u001B[38;5;241m.\u001B[39mindex)\n\u001B[1;32m--> 187\u001B[0m d \u001B[38;5;241m=\u001B[39m \u001B[38;5;28;43mself\u001B[39;49m\u001B[38;5;241;43m.\u001B[39;49m\u001B[43m_translate\u001B[49m\u001B[43m(\u001B[49m\n\u001B[0;32m    188\u001B[0m \u001B[43m    \u001B[49m\u001B[43msparse_index\u001B[49m\u001B[43m,\u001B[49m\u001B[43m \u001B[49m\u001B[43msparse_columns\u001B[49m\u001B[43m,\u001B[49m\u001B[43m \u001B[49m\u001B[43mmax_rows\u001B[49m\u001B[43m,\u001B[49m\u001B[43m \u001B[49m\u001B[43mmax_cols\u001B[49m\u001B[43m,\u001B[49m\u001B[43m \u001B[49m\u001B[43mblank\u001B[49m\u001B[43m,\u001B[49m\u001B[43m \u001B[49m\u001B[43mdxs\u001B[49m\n\u001B[0;32m    189\u001B[0m \u001B[43m\u001B[49m\u001B[43m)\u001B[49m\n\u001B[0;32m    190\u001B[0m \u001B[38;5;28;01mreturn\u001B[39;00m d\n",
      "File \u001B[1;32m~\\AppData\\Local\\Programs\\Python\\Python311\\Lib\\site-packages\\pandas\\io\\formats\\style_render.py:335\u001B[0m, in \u001B[0;36mStylerRenderer._translate\u001B[1;34m(self, sparse_index, sparse_cols, max_rows, max_cols, blank, dxs)\u001B[0m\n\u001B[0;32m    329\u001B[0m \u001B[38;5;28mself\u001B[39m\u001B[38;5;241m.\u001B[39mcellstyle_map: DefaultDict[\u001B[38;5;28mtuple\u001B[39m[CSSPair, \u001B[38;5;241m.\u001B[39m\u001B[38;5;241m.\u001B[39m\u001B[38;5;241m.\u001B[39m], \u001B[38;5;28mlist\u001B[39m[\u001B[38;5;28mstr\u001B[39m]] \u001B[38;5;241m=\u001B[39m defaultdict(\n\u001B[0;32m    330\u001B[0m     \u001B[38;5;28mlist\u001B[39m\n\u001B[0;32m    331\u001B[0m )\n\u001B[0;32m    332\u001B[0m \u001B[38;5;28mself\u001B[39m\u001B[38;5;241m.\u001B[39mcellstyle_map_index: DefaultDict[\n\u001B[0;32m    333\u001B[0m     \u001B[38;5;28mtuple\u001B[39m[CSSPair, \u001B[38;5;241m.\u001B[39m\u001B[38;5;241m.\u001B[39m\u001B[38;5;241m.\u001B[39m], \u001B[38;5;28mlist\u001B[39m[\u001B[38;5;28mstr\u001B[39m]\n\u001B[0;32m    334\u001B[0m ] \u001B[38;5;241m=\u001B[39m defaultdict(\u001B[38;5;28mlist\u001B[39m)\n\u001B[1;32m--> 335\u001B[0m body: \u001B[38;5;28mlist\u001B[39m \u001B[38;5;241m=\u001B[39m \u001B[38;5;28;43mself\u001B[39;49m\u001B[38;5;241;43m.\u001B[39;49m\u001B[43m_translate_body\u001B[49m\u001B[43m(\u001B[49m\u001B[43midx_lengths\u001B[49m\u001B[43m,\u001B[49m\u001B[43m \u001B[49m\u001B[43mmax_rows\u001B[49m\u001B[43m,\u001B[49m\u001B[43m \u001B[49m\u001B[43mmax_cols\u001B[49m\u001B[43m)\u001B[49m\n\u001B[0;32m    336\u001B[0m d\u001B[38;5;241m.\u001B[39mupdate({\u001B[38;5;124m\"\u001B[39m\u001B[38;5;124mbody\u001B[39m\u001B[38;5;124m\"\u001B[39m: body})\n\u001B[0;32m    338\u001B[0m ctx_maps \u001B[38;5;241m=\u001B[39m {\n\u001B[0;32m    339\u001B[0m     \u001B[38;5;124m\"\u001B[39m\u001B[38;5;124mcellstyle\u001B[39m\u001B[38;5;124m\"\u001B[39m: \u001B[38;5;124m\"\u001B[39m\u001B[38;5;124mcellstyle_map\u001B[39m\u001B[38;5;124m\"\u001B[39m,\n\u001B[0;32m    340\u001B[0m     \u001B[38;5;124m\"\u001B[39m\u001B[38;5;124mcellstyle_index\u001B[39m\u001B[38;5;124m\"\u001B[39m: \u001B[38;5;124m\"\u001B[39m\u001B[38;5;124mcellstyle_map_index\u001B[39m\u001B[38;5;124m\"\u001B[39m,\n\u001B[0;32m    341\u001B[0m     \u001B[38;5;124m\"\u001B[39m\u001B[38;5;124mcellstyle_columns\u001B[39m\u001B[38;5;124m\"\u001B[39m: \u001B[38;5;124m\"\u001B[39m\u001B[38;5;124mcellstyle_map_columns\u001B[39m\u001B[38;5;124m\"\u001B[39m,\n\u001B[0;32m    342\u001B[0m }  \u001B[38;5;66;03m# add the cell_ids styles map to the render dictionary in right format\u001B[39;00m\n",
      "File \u001B[1;32m~\\AppData\\Local\\Programs\\Python\\Python311\\Lib\\site-packages\\pandas\\io\\formats\\style_render.py:629\u001B[0m, in \u001B[0;36mStylerRenderer._translate_body\u001B[1;34m(self, idx_lengths, max_rows, max_cols)\u001B[0m\n\u001B[0;32m    621\u001B[0m     \u001B[38;5;28;01mif\u001B[39;00m \u001B[38;5;28mself\u001B[39m\u001B[38;5;241m.\u001B[39m_check_trim(\n\u001B[0;32m    622\u001B[0m         visible_row_count,\n\u001B[0;32m    623\u001B[0m         max_rows,\n\u001B[0;32m    624\u001B[0m         body,\n\u001B[0;32m    625\u001B[0m         \u001B[38;5;124m\"\u001B[39m\u001B[38;5;124mrow\u001B[39m\u001B[38;5;124m\"\u001B[39m,\n\u001B[0;32m    626\u001B[0m     ):\n\u001B[0;32m    627\u001B[0m         \u001B[38;5;28;01mbreak\u001B[39;00m\n\u001B[1;32m--> 629\u001B[0m     body_row \u001B[38;5;241m=\u001B[39m \u001B[38;5;28;43mself\u001B[39;49m\u001B[38;5;241;43m.\u001B[39;49m\u001B[43m_generate_body_row\u001B[49m\u001B[43m(\u001B[49m\n\u001B[0;32m    630\u001B[0m \u001B[43m        \u001B[49m\u001B[43m(\u001B[49m\u001B[43mr\u001B[49m\u001B[43m,\u001B[49m\u001B[43m \u001B[49m\u001B[43mrow_tup\u001B[49m\u001B[43m,\u001B[49m\u001B[43m \u001B[49m\u001B[43mrlabels\u001B[49m\u001B[43m)\u001B[49m\u001B[43m,\u001B[49m\u001B[43m \u001B[49m\u001B[43mmax_cols\u001B[49m\u001B[43m,\u001B[49m\u001B[43m \u001B[49m\u001B[43midx_lengths\u001B[49m\n\u001B[0;32m    631\u001B[0m \u001B[43m    \u001B[49m\u001B[43m)\u001B[49m\n\u001B[0;32m    632\u001B[0m     body\u001B[38;5;241m.\u001B[39mappend(body_row)\n\u001B[0;32m    633\u001B[0m \u001B[38;5;28;01mreturn\u001B[39;00m body\n",
      "File \u001B[1;32m~\\AppData\\Local\\Programs\\Python\\Python311\\Lib\\site-packages\\pandas\\io\\formats\\style_render.py:826\u001B[0m, in \u001B[0;36mStylerRenderer._generate_body_row\u001B[1;34m(self, iter, max_cols, idx_lengths)\u001B[0m\n\u001B[0;32m    814\u001B[0m \u001B[38;5;28;01mif\u001B[39;00m (r, c) \u001B[38;5;129;01min\u001B[39;00m \u001B[38;5;28mself\u001B[39m\u001B[38;5;241m.\u001B[39mcell_context:\n\u001B[0;32m    815\u001B[0m     \u001B[38;5;28mcls\u001B[39m \u001B[38;5;241m=\u001B[39m \u001B[38;5;124m\"\u001B[39m\u001B[38;5;124m \u001B[39m\u001B[38;5;124m\"\u001B[39m \u001B[38;5;241m+\u001B[39m \u001B[38;5;28mself\u001B[39m\u001B[38;5;241m.\u001B[39mcell_context[r, c]\n\u001B[0;32m    817\u001B[0m data_element \u001B[38;5;241m=\u001B[39m _element(\n\u001B[0;32m    818\u001B[0m     \u001B[38;5;124m\"\u001B[39m\u001B[38;5;124mtd\u001B[39m\u001B[38;5;124m\"\u001B[39m,\n\u001B[0;32m    819\u001B[0m     (\n\u001B[0;32m    820\u001B[0m         \u001B[38;5;124mf\u001B[39m\u001B[38;5;124m\"\u001B[39m\u001B[38;5;132;01m{\u001B[39;00m\u001B[38;5;28mself\u001B[39m\u001B[38;5;241m.\u001B[39mcss[\u001B[38;5;124m'\u001B[39m\u001B[38;5;124mdata\u001B[39m\u001B[38;5;124m'\u001B[39m]\u001B[38;5;132;01m}\u001B[39;00m\u001B[38;5;124m \u001B[39m\u001B[38;5;132;01m{\u001B[39;00m\u001B[38;5;28mself\u001B[39m\u001B[38;5;241m.\u001B[39mcss[\u001B[38;5;124m'\u001B[39m\u001B[38;5;124mrow\u001B[39m\u001B[38;5;124m'\u001B[39m]\u001B[38;5;132;01m}\u001B[39;00m\u001B[38;5;132;01m{\u001B[39;00mr\u001B[38;5;132;01m}\u001B[39;00m\u001B[38;5;124m \u001B[39m\u001B[38;5;124m\"\u001B[39m\n\u001B[0;32m    821\u001B[0m         \u001B[38;5;124mf\u001B[39m\u001B[38;5;124m\"\u001B[39m\u001B[38;5;132;01m{\u001B[39;00m\u001B[38;5;28mself\u001B[39m\u001B[38;5;241m.\u001B[39mcss[\u001B[38;5;124m'\u001B[39m\u001B[38;5;124mcol\u001B[39m\u001B[38;5;124m'\u001B[39m]\u001B[38;5;132;01m}\u001B[39;00m\u001B[38;5;132;01m{\u001B[39;00mc\u001B[38;5;132;01m}\u001B[39;00m\u001B[38;5;132;01m{\u001B[39;00m\u001B[38;5;28mcls\u001B[39m\u001B[38;5;132;01m}\u001B[39;00m\u001B[38;5;124m\"\u001B[39m\n\u001B[0;32m    822\u001B[0m     ),\n\u001B[0;32m    823\u001B[0m     value,\n\u001B[0;32m    824\u001B[0m     data_element_visible,\n\u001B[0;32m    825\u001B[0m     attributes\u001B[38;5;241m=\u001B[39m\u001B[38;5;124m\"\u001B[39m\u001B[38;5;124m\"\u001B[39m,\n\u001B[1;32m--> 826\u001B[0m     display_value\u001B[38;5;241m=\u001B[39m\u001B[38;5;28;43mself\u001B[39;49m\u001B[38;5;241;43m.\u001B[39;49m\u001B[43m_display_funcs\u001B[49m\u001B[43m[\u001B[49m\u001B[43m(\u001B[49m\u001B[43mr\u001B[49m\u001B[43m,\u001B[49m\u001B[43m \u001B[49m\u001B[43mc\u001B[49m\u001B[43m)\u001B[49m\u001B[43m]\u001B[49m\u001B[43m(\u001B[49m\u001B[43mvalue\u001B[49m\u001B[43m)\u001B[49m,\n\u001B[0;32m    827\u001B[0m )\n\u001B[0;32m    829\u001B[0m \u001B[38;5;28;01mif\u001B[39;00m \u001B[38;5;28mself\u001B[39m\u001B[38;5;241m.\u001B[39mcell_ids:\n\u001B[0;32m    830\u001B[0m     data_element[\u001B[38;5;124m\"\u001B[39m\u001B[38;5;124mid\u001B[39m\u001B[38;5;124m\"\u001B[39m] \u001B[38;5;241m=\u001B[39m \u001B[38;5;124mf\u001B[39m\u001B[38;5;124m\"\u001B[39m\u001B[38;5;132;01m{\u001B[39;00m\u001B[38;5;28mself\u001B[39m\u001B[38;5;241m.\u001B[39mcss[\u001B[38;5;124m'\u001B[39m\u001B[38;5;124mrow\u001B[39m\u001B[38;5;124m'\u001B[39m]\u001B[38;5;132;01m}\u001B[39;00m\u001B[38;5;132;01m{\u001B[39;00mr\u001B[38;5;132;01m}\u001B[39;00m\u001B[38;5;124m_\u001B[39m\u001B[38;5;132;01m{\u001B[39;00m\u001B[38;5;28mself\u001B[39m\u001B[38;5;241m.\u001B[39mcss[\u001B[38;5;124m'\u001B[39m\u001B[38;5;124mcol\u001B[39m\u001B[38;5;124m'\u001B[39m]\u001B[38;5;132;01m}\u001B[39;00m\u001B[38;5;132;01m{\u001B[39;00mc\u001B[38;5;132;01m}\u001B[39;00m\u001B[38;5;124m\"\u001B[39m\n",
      "File \u001B[1;32m~\\AppData\\Local\\Programs\\Python\\Python311\\Lib\\site-packages\\pandas\\io\\formats\\style_render.py:1829\u001B[0m, in \u001B[0;36m_maybe_wrap_formatter.<locals>.<lambda>\u001B[1;34m(x)\u001B[0m\n\u001B[0;32m   1827\u001B[0m \u001B[38;5;66;03m# Get initial func from input string, input callable, or from default factory\u001B[39;00m\n\u001B[0;32m   1828\u001B[0m \u001B[38;5;28;01mif\u001B[39;00m \u001B[38;5;28misinstance\u001B[39m(formatter, \u001B[38;5;28mstr\u001B[39m):\n\u001B[1;32m-> 1829\u001B[0m     func_0 \u001B[38;5;241m=\u001B[39m \u001B[38;5;28;01mlambda\u001B[39;00m x: \u001B[43mformatter\u001B[49m\u001B[38;5;241;43m.\u001B[39;49m\u001B[43mformat\u001B[49m\u001B[43m(\u001B[49m\u001B[43mx\u001B[49m\u001B[43m)\u001B[49m\n\u001B[0;32m   1830\u001B[0m \u001B[38;5;28;01melif\u001B[39;00m \u001B[38;5;28mcallable\u001B[39m(formatter):\n\u001B[0;32m   1831\u001B[0m     func_0 \u001B[38;5;241m=\u001B[39m formatter\n",
      "\u001B[1;31mValueError\u001B[0m: Unknown format code 'f' for object of type 'str'"
     ]
    },
    {
     "data": {
      "text/plain": "<pandas.io.formats.style.Styler at 0x1e46adc4c90>"
     },
     "execution_count": 28,
     "metadata": {},
     "output_type": "execute_result"
    }
   ],
   "source": [
    "df_salary.style.format('${:,.2f}')"
   ]
  },
  {
   "cell_type": "markdown",
   "metadata": {},
   "source": [
    "### Bonus #2\n",
    "\n",
    "Filter out the non-single-states (e.g., `'California, Colorado'`) in the most elegant way possible (i.e., *not* by blacklisting all the bad values)."
   ]
  },
  {
   "cell_type": "code",
   "execution_count": 29,
   "metadata": {},
   "outputs": [
    {
     "data": {
      "text/plain": "                   state      min           mean         max\n5                 Alaska  47840.0  702486.750000  10000000.0\n57            New Jersey  14850.0  129931.842975   5000044.0\n10            California      0.0  113542.410498    520000.0\n22  District of Columbia     40.0  109850.159817   1250000.0\n61              New York     80.0  106658.932886    590000.0\n20              Delaware  35000.0  103455.555556    220000.0\n45         Massachusetts    155.0   99883.125628    400000.0\n80            Washington     72.0   98032.896552    300000.0\n79              Virginia     57.0   96219.045455   1300000.0\n25               Florida    150.0   92868.042553   2600000.0\n77                  Utah  28000.0   91167.660000    576000.0\n68                Oregon      0.0   90191.924419    230000.0\n42              Maryland      0.0   89189.863354    353200.0\n76                 Texas      0.0   89022.251337    300000.0\n19           Connecticut      0.0   88467.536232    270000.0\n30              Illinois      0.0   88023.341615    340000.0\n17              Colorado     65.0   86702.930818    200000.0\n6                Arizona  26500.0   86190.060241    380000.0\n27               Georgia      0.0   85865.748571    860000.0\n49             Minnesota     40.0   83139.015625    215000.0\n82             Wisconsin      1.0   83000.628788    920000.0\n55                Nevada     55.0   82215.480000    165000.0\n70          Pennsylvania      0.0   80780.869403    252000.0\n32               Indiana    105.0   79997.621053    925000.0\n54              Nebraska  18000.0   79161.062500    224000.0\n66                  Ohio     36.0   78993.337778    954000.0\n75             Tennessee  24000.0   77698.921053    275000.0\n47              Michigan     55.0   77597.371069    240000.0\n64        North Carolina  15000.0   77376.280702    165000.0\n39             Louisiana  20000.0   75958.368421    200000.0\n60            New Mexico     78.0   74496.760000    177000.0\n72          Rhode Island  27040.0   73162.631579    150000.0\n29                 Idaho     38.0   72550.500000    300000.0\n53               Montana  19200.0   71369.272727    145000.0\n36                Kansas     52.0   69062.868421    167000.0\n56         New Hampshire     55.0   68619.194444    208000.0\n34                  Iowa  13000.0   68420.595238    142000.0\n52              Missouri     70.0   67917.646552    200000.0\n38              Kentucky      0.0   66174.876923    175000.0\n41                 Maine  26000.0   65832.914894    173000.0\n0                Alabama      0.0   65524.911111    350000.0\n28                Hawaii  32460.0   65270.000000    142000.0\n9               Arkansas      4.0   64428.461538    145000.0\n78               Vermont  32000.0   64075.578947    120000.0\n67              Oklahoma  25000.0   62752.586207    180000.0\n73        South Carolina      0.0   62532.657895    223000.0\n65          North Dakota      0.0   62217.333333     96000.0\n83               Wyoming  42500.0   59906.333333     98000.0\n50           Mississippi  30000.0   59661.538462    125000.0\n81         West Virginia      0.0   52754.375000    120000.0\n74          South Dakota  33000.0   46625.000000     60000.0",
      "text/html": "<div>\n<style scoped>\n    .dataframe tbody tr th:only-of-type {\n        vertical-align: middle;\n    }\n\n    .dataframe tbody tr th {\n        vertical-align: top;\n    }\n\n    .dataframe thead th {\n        text-align: right;\n    }\n</style>\n<table border=\"1\" class=\"dataframe\">\n  <thead>\n    <tr style=\"text-align: right;\">\n      <th></th>\n      <th>state</th>\n      <th>min</th>\n      <th>mean</th>\n      <th>max</th>\n    </tr>\n  </thead>\n  <tbody>\n    <tr>\n      <th>5</th>\n      <td>Alaska</td>\n      <td>47840.0</td>\n      <td>702486.750000</td>\n      <td>10000000.0</td>\n    </tr>\n    <tr>\n      <th>57</th>\n      <td>New Jersey</td>\n      <td>14850.0</td>\n      <td>129931.842975</td>\n      <td>5000044.0</td>\n    </tr>\n    <tr>\n      <th>10</th>\n      <td>California</td>\n      <td>0.0</td>\n      <td>113542.410498</td>\n      <td>520000.0</td>\n    </tr>\n    <tr>\n      <th>22</th>\n      <td>District of Columbia</td>\n      <td>40.0</td>\n      <td>109850.159817</td>\n      <td>1250000.0</td>\n    </tr>\n    <tr>\n      <th>61</th>\n      <td>New York</td>\n      <td>80.0</td>\n      <td>106658.932886</td>\n      <td>590000.0</td>\n    </tr>\n    <tr>\n      <th>20</th>\n      <td>Delaware</td>\n      <td>35000.0</td>\n      <td>103455.555556</td>\n      <td>220000.0</td>\n    </tr>\n    <tr>\n      <th>45</th>\n      <td>Massachusetts</td>\n      <td>155.0</td>\n      <td>99883.125628</td>\n      <td>400000.0</td>\n    </tr>\n    <tr>\n      <th>80</th>\n      <td>Washington</td>\n      <td>72.0</td>\n      <td>98032.896552</td>\n      <td>300000.0</td>\n    </tr>\n    <tr>\n      <th>79</th>\n      <td>Virginia</td>\n      <td>57.0</td>\n      <td>96219.045455</td>\n      <td>1300000.0</td>\n    </tr>\n    <tr>\n      <th>25</th>\n      <td>Florida</td>\n      <td>150.0</td>\n      <td>92868.042553</td>\n      <td>2600000.0</td>\n    </tr>\n    <tr>\n      <th>77</th>\n      <td>Utah</td>\n      <td>28000.0</td>\n      <td>91167.660000</td>\n      <td>576000.0</td>\n    </tr>\n    <tr>\n      <th>68</th>\n      <td>Oregon</td>\n      <td>0.0</td>\n      <td>90191.924419</td>\n      <td>230000.0</td>\n    </tr>\n    <tr>\n      <th>42</th>\n      <td>Maryland</td>\n      <td>0.0</td>\n      <td>89189.863354</td>\n      <td>353200.0</td>\n    </tr>\n    <tr>\n      <th>76</th>\n      <td>Texas</td>\n      <td>0.0</td>\n      <td>89022.251337</td>\n      <td>300000.0</td>\n    </tr>\n    <tr>\n      <th>19</th>\n      <td>Connecticut</td>\n      <td>0.0</td>\n      <td>88467.536232</td>\n      <td>270000.0</td>\n    </tr>\n    <tr>\n      <th>30</th>\n      <td>Illinois</td>\n      <td>0.0</td>\n      <td>88023.341615</td>\n      <td>340000.0</td>\n    </tr>\n    <tr>\n      <th>17</th>\n      <td>Colorado</td>\n      <td>65.0</td>\n      <td>86702.930818</td>\n      <td>200000.0</td>\n    </tr>\n    <tr>\n      <th>6</th>\n      <td>Arizona</td>\n      <td>26500.0</td>\n      <td>86190.060241</td>\n      <td>380000.0</td>\n    </tr>\n    <tr>\n      <th>27</th>\n      <td>Georgia</td>\n      <td>0.0</td>\n      <td>85865.748571</td>\n      <td>860000.0</td>\n    </tr>\n    <tr>\n      <th>49</th>\n      <td>Minnesota</td>\n      <td>40.0</td>\n      <td>83139.015625</td>\n      <td>215000.0</td>\n    </tr>\n    <tr>\n      <th>82</th>\n      <td>Wisconsin</td>\n      <td>1.0</td>\n      <td>83000.628788</td>\n      <td>920000.0</td>\n    </tr>\n    <tr>\n      <th>55</th>\n      <td>Nevada</td>\n      <td>55.0</td>\n      <td>82215.480000</td>\n      <td>165000.0</td>\n    </tr>\n    <tr>\n      <th>70</th>\n      <td>Pennsylvania</td>\n      <td>0.0</td>\n      <td>80780.869403</td>\n      <td>252000.0</td>\n    </tr>\n    <tr>\n      <th>32</th>\n      <td>Indiana</td>\n      <td>105.0</td>\n      <td>79997.621053</td>\n      <td>925000.0</td>\n    </tr>\n    <tr>\n      <th>54</th>\n      <td>Nebraska</td>\n      <td>18000.0</td>\n      <td>79161.062500</td>\n      <td>224000.0</td>\n    </tr>\n    <tr>\n      <th>66</th>\n      <td>Ohio</td>\n      <td>36.0</td>\n      <td>78993.337778</td>\n      <td>954000.0</td>\n    </tr>\n    <tr>\n      <th>75</th>\n      <td>Tennessee</td>\n      <td>24000.0</td>\n      <td>77698.921053</td>\n      <td>275000.0</td>\n    </tr>\n    <tr>\n      <th>47</th>\n      <td>Michigan</td>\n      <td>55.0</td>\n      <td>77597.371069</td>\n      <td>240000.0</td>\n    </tr>\n    <tr>\n      <th>64</th>\n      <td>North Carolina</td>\n      <td>15000.0</td>\n      <td>77376.280702</td>\n      <td>165000.0</td>\n    </tr>\n    <tr>\n      <th>39</th>\n      <td>Louisiana</td>\n      <td>20000.0</td>\n      <td>75958.368421</td>\n      <td>200000.0</td>\n    </tr>\n    <tr>\n      <th>60</th>\n      <td>New Mexico</td>\n      <td>78.0</td>\n      <td>74496.760000</td>\n      <td>177000.0</td>\n    </tr>\n    <tr>\n      <th>72</th>\n      <td>Rhode Island</td>\n      <td>27040.0</td>\n      <td>73162.631579</td>\n      <td>150000.0</td>\n    </tr>\n    <tr>\n      <th>29</th>\n      <td>Idaho</td>\n      <td>38.0</td>\n      <td>72550.500000</td>\n      <td>300000.0</td>\n    </tr>\n    <tr>\n      <th>53</th>\n      <td>Montana</td>\n      <td>19200.0</td>\n      <td>71369.272727</td>\n      <td>145000.0</td>\n    </tr>\n    <tr>\n      <th>36</th>\n      <td>Kansas</td>\n      <td>52.0</td>\n      <td>69062.868421</td>\n      <td>167000.0</td>\n    </tr>\n    <tr>\n      <th>56</th>\n      <td>New Hampshire</td>\n      <td>55.0</td>\n      <td>68619.194444</td>\n      <td>208000.0</td>\n    </tr>\n    <tr>\n      <th>34</th>\n      <td>Iowa</td>\n      <td>13000.0</td>\n      <td>68420.595238</td>\n      <td>142000.0</td>\n    </tr>\n    <tr>\n      <th>52</th>\n      <td>Missouri</td>\n      <td>70.0</td>\n      <td>67917.646552</td>\n      <td>200000.0</td>\n    </tr>\n    <tr>\n      <th>38</th>\n      <td>Kentucky</td>\n      <td>0.0</td>\n      <td>66174.876923</td>\n      <td>175000.0</td>\n    </tr>\n    <tr>\n      <th>41</th>\n      <td>Maine</td>\n      <td>26000.0</td>\n      <td>65832.914894</td>\n      <td>173000.0</td>\n    </tr>\n    <tr>\n      <th>0</th>\n      <td>Alabama</td>\n      <td>0.0</td>\n      <td>65524.911111</td>\n      <td>350000.0</td>\n    </tr>\n    <tr>\n      <th>28</th>\n      <td>Hawaii</td>\n      <td>32460.0</td>\n      <td>65270.000000</td>\n      <td>142000.0</td>\n    </tr>\n    <tr>\n      <th>9</th>\n      <td>Arkansas</td>\n      <td>4.0</td>\n      <td>64428.461538</td>\n      <td>145000.0</td>\n    </tr>\n    <tr>\n      <th>78</th>\n      <td>Vermont</td>\n      <td>32000.0</td>\n      <td>64075.578947</td>\n      <td>120000.0</td>\n    </tr>\n    <tr>\n      <th>67</th>\n      <td>Oklahoma</td>\n      <td>25000.0</td>\n      <td>62752.586207</td>\n      <td>180000.0</td>\n    </tr>\n    <tr>\n      <th>73</th>\n      <td>South Carolina</td>\n      <td>0.0</td>\n      <td>62532.657895</td>\n      <td>223000.0</td>\n    </tr>\n    <tr>\n      <th>65</th>\n      <td>North Dakota</td>\n      <td>0.0</td>\n      <td>62217.333333</td>\n      <td>96000.0</td>\n    </tr>\n    <tr>\n      <th>83</th>\n      <td>Wyoming</td>\n      <td>42500.0</td>\n      <td>59906.333333</td>\n      <td>98000.0</td>\n    </tr>\n    <tr>\n      <th>50</th>\n      <td>Mississippi</td>\n      <td>30000.0</td>\n      <td>59661.538462</td>\n      <td>125000.0</td>\n    </tr>\n    <tr>\n      <th>81</th>\n      <td>West Virginia</td>\n      <td>0.0</td>\n      <td>52754.375000</td>\n      <td>120000.0</td>\n    </tr>\n    <tr>\n      <th>74</th>\n      <td>South Dakota</td>\n      <td>33000.0</td>\n      <td>46625.000000</td>\n      <td>60000.0</td>\n    </tr>\n  </tbody>\n</table>\n</div>"
     },
     "execution_count": 29,
     "metadata": {},
     "output_type": "execute_result"
    }
   ],
   "source": [
    "df_salary = df_salary[~df_salary['state'].str.contains(',')]\n",
    "df_salary"
   ]
  },
  {
   "cell_type": "markdown",
   "metadata": {},
   "source": [
    "### Bonus #3\n",
    "\n",
    "Show the quantiles instead of just minimum, mean, and maximum―say 0%, 5%, 25%, 50%, 75%, 95%, and 100%. Outliers may be deceiving.\n",
    "\n",
    "Sort by whatever interests you―like say the *50th* percentile.\n",
    "\n",
    "And throw in a count by state too. It would be interesting to know how many data points contribute to the figures for each state. (*Hint: your nice formatting from Bonus #1 might not work this time around.* 😜)"
   ]
  },
  {
   "cell_type": "code",
   "execution_count": 29,
   "metadata": {},
   "outputs": [],
   "source": []
  }
 ],
 "metadata": {
  "kernelspec": {
   "display_name": "Python 3",
   "language": "python",
   "name": "python3"
  },
  "language_info": {
   "codemirror_mode": {
    "name": "ipython",
    "version": 3
   },
   "file_extension": ".py",
   "mimetype": "text/x-python",
   "name": "python",
   "nbconvert_exporter": "python",
   "pygments_lexer": "ipython3",
   "version": "3.11.4"
  }
 },
 "nbformat": 4,
 "nbformat_minor": 2
}
