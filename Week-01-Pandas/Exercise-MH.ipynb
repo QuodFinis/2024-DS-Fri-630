{
 "cells": [
  {
   "cell_type": "markdown",
   "metadata": {},
   "source": [
    "# First print your name in the cell below then save this file. (or something nice about your instructor)"
   ]
  },
  {
   "cell_type": "code",
   "execution_count": 1,
   "metadata": {},
   "outputs": [
    {
     "name": "stdout",
     "output_type": "stream",
     "text": [
      "Mahmud Hasan\n"
     ]
    }
   ],
   "source": [
    "# In this cell print your name \n",
    "\n",
    "print('Mahmud Hasan')"
   ]
  },
  {
   "cell_type": "markdown",
   "metadata": {},
   "source": [
    "# Data wrangling with Pandas exercise\n",
    "* For this exercise we will be using the `listings.csv` data file."
   ]
  },
  {
   "cell_type": "code",
   "execution_count": 2,
   "metadata": {},
   "outputs": [],
   "source": [
    "import pandas as pd\n",
    "import numpy as np"
   ]
  },
  {
   "cell_type": "markdown",
   "metadata": {},
   "source": [
    "# Load in the data file using `pd.read_csv()`"
   ]
  },
  {
   "cell_type": "code",
   "execution_count": 3,
   "metadata": {},
   "outputs": [
    {
     "data": {
      "text/plain": "             id                                               name    host_id  \\\n0          2595                              Skylit Midtown Castle       2845   \n1          3831  Whole flr w/private bdrm, bath & kitchen(pls r...       4869   \n2          5121                                    BlissArtsSpace!       7356   \n3          5136           Spacious Brooklyn Duplex, Patio + Garden       7378   \n4          5178                   Large Furnished Room Near B'way　       8967   \n...         ...                                                ...        ...   \n46522  44807522         Designer Gramercy Studio Townhouse by UNSQ   12941925   \n46523  44807786  Cozy & comfy apt in the heart of Inwood Manhattan  284790520   \n46524  44811717  Comfortable safe environment 24hr security camera  362453686   \n46525  44814944                 Upper West Side studio 86th Street    4039777   \n46526  44818009  5MIN D/N trains, NEAR THE BEACH, 50’ TO MANHATTAN   48098268   \n\n         host_name neighbourhood_group       neighbourhood  latitude  \\\n0         Jennifer           Manhattan             Midtown  40.75362   \n1      LisaRoxanne            Brooklyn        Clinton Hill  40.68514   \n2            Garon            Brooklyn  Bedford-Stuyvesant  40.68688   \n3          Rebecca            Brooklyn         Sunset Park  40.66120   \n4         Shunichi           Manhattan      Hell's Kitchen  40.76489   \n...            ...                 ...                 ...       ...   \n46522        Brian           Manhattan            Gramercy  40.73433   \n46523        Salar           Manhattan  Washington Heights  40.85820   \n46524       Nicole            Brooklyn       East Flatbush  40.65399   \n46525     Fernando           Manhattan     Upper West Side  40.78731   \n46526       Marina            Brooklyn           Gravesend  40.59945   \n\n       longitude        room_type  price  minimum_nights  number_of_reviews  \\\n0      -73.98377  Entire home/apt    175               3                 48   \n1      -73.95976  Entire home/apt     75               1                340   \n2      -73.95596     Private room     60              29                 50   \n3      -73.99423  Entire home/apt    175              14                  1   \n4      -73.98493     Private room     65               2                473   \n...          ...              ...    ...             ...                ...   \n46522  -73.98383  Entire home/apt    145               7                  0   \n46523  -73.92733  Entire home/apt     87               6                  0   \n46524  -73.93287     Private room     59               3                  0   \n46525  -73.97029  Entire home/apt     80              30                  0   \n46526  -73.98209     Private room     66               1                  0   \n\n      last_review  reviews_per_month  calculated_host_listings_count  \\\n0      2019-11-04               0.37                               2   \n1      2020-08-01               4.75                               1   \n2      2019-12-02               0.37                               1   \n3      2014-01-02               0.01                               1   \n4      2020-03-15               3.44                               1   \n...           ...                ...                             ...   \n46522         NaN                NaN                               1   \n46523         NaN                NaN                               2   \n46524         NaN                NaN                               1   \n46525         NaN                NaN                               1   \n46526         NaN                NaN                               1   \n\n       availability_365  \n0                   365  \n1                   265  \n2                   365  \n3                   295  \n4                   340  \n...                 ...  \n46522               164  \n46523                85  \n46524                90  \n46525               113  \n46526                38  \n\n[46527 rows x 16 columns]",
      "text/html": "<div>\n<style scoped>\n    .dataframe tbody tr th:only-of-type {\n        vertical-align: middle;\n    }\n\n    .dataframe tbody tr th {\n        vertical-align: top;\n    }\n\n    .dataframe thead th {\n        text-align: right;\n    }\n</style>\n<table border=\"1\" class=\"dataframe\">\n  <thead>\n    <tr style=\"text-align: right;\">\n      <th></th>\n      <th>id</th>\n      <th>name</th>\n      <th>host_id</th>\n      <th>host_name</th>\n      <th>neighbourhood_group</th>\n      <th>neighbourhood</th>\n      <th>latitude</th>\n      <th>longitude</th>\n      <th>room_type</th>\n      <th>price</th>\n      <th>minimum_nights</th>\n      <th>number_of_reviews</th>\n      <th>last_review</th>\n      <th>reviews_per_month</th>\n      <th>calculated_host_listings_count</th>\n      <th>availability_365</th>\n    </tr>\n  </thead>\n  <tbody>\n    <tr>\n      <th>0</th>\n      <td>2595</td>\n      <td>Skylit Midtown Castle</td>\n      <td>2845</td>\n      <td>Jennifer</td>\n      <td>Manhattan</td>\n      <td>Midtown</td>\n      <td>40.75362</td>\n      <td>-73.98377</td>\n      <td>Entire home/apt</td>\n      <td>175</td>\n      <td>3</td>\n      <td>48</td>\n      <td>2019-11-04</td>\n      <td>0.37</td>\n      <td>2</td>\n      <td>365</td>\n    </tr>\n    <tr>\n      <th>1</th>\n      <td>3831</td>\n      <td>Whole flr w/private bdrm, bath &amp; kitchen(pls r...</td>\n      <td>4869</td>\n      <td>LisaRoxanne</td>\n      <td>Brooklyn</td>\n      <td>Clinton Hill</td>\n      <td>40.68514</td>\n      <td>-73.95976</td>\n      <td>Entire home/apt</td>\n      <td>75</td>\n      <td>1</td>\n      <td>340</td>\n      <td>2020-08-01</td>\n      <td>4.75</td>\n      <td>1</td>\n      <td>265</td>\n    </tr>\n    <tr>\n      <th>2</th>\n      <td>5121</td>\n      <td>BlissArtsSpace!</td>\n      <td>7356</td>\n      <td>Garon</td>\n      <td>Brooklyn</td>\n      <td>Bedford-Stuyvesant</td>\n      <td>40.68688</td>\n      <td>-73.95596</td>\n      <td>Private room</td>\n      <td>60</td>\n      <td>29</td>\n      <td>50</td>\n      <td>2019-12-02</td>\n      <td>0.37</td>\n      <td>1</td>\n      <td>365</td>\n    </tr>\n    <tr>\n      <th>3</th>\n      <td>5136</td>\n      <td>Spacious Brooklyn Duplex, Patio + Garden</td>\n      <td>7378</td>\n      <td>Rebecca</td>\n      <td>Brooklyn</td>\n      <td>Sunset Park</td>\n      <td>40.66120</td>\n      <td>-73.99423</td>\n      <td>Entire home/apt</td>\n      <td>175</td>\n      <td>14</td>\n      <td>1</td>\n      <td>2014-01-02</td>\n      <td>0.01</td>\n      <td>1</td>\n      <td>295</td>\n    </tr>\n    <tr>\n      <th>4</th>\n      <td>5178</td>\n      <td>Large Furnished Room Near B'way</td>\n      <td>8967</td>\n      <td>Shunichi</td>\n      <td>Manhattan</td>\n      <td>Hell's Kitchen</td>\n      <td>40.76489</td>\n      <td>-73.98493</td>\n      <td>Private room</td>\n      <td>65</td>\n      <td>2</td>\n      <td>473</td>\n      <td>2020-03-15</td>\n      <td>3.44</td>\n      <td>1</td>\n      <td>340</td>\n    </tr>\n    <tr>\n      <th>...</th>\n      <td>...</td>\n      <td>...</td>\n      <td>...</td>\n      <td>...</td>\n      <td>...</td>\n      <td>...</td>\n      <td>...</td>\n      <td>...</td>\n      <td>...</td>\n      <td>...</td>\n      <td>...</td>\n      <td>...</td>\n      <td>...</td>\n      <td>...</td>\n      <td>...</td>\n      <td>...</td>\n    </tr>\n    <tr>\n      <th>46522</th>\n      <td>44807522</td>\n      <td>Designer Gramercy Studio Townhouse by UNSQ</td>\n      <td>12941925</td>\n      <td>Brian</td>\n      <td>Manhattan</td>\n      <td>Gramercy</td>\n      <td>40.73433</td>\n      <td>-73.98383</td>\n      <td>Entire home/apt</td>\n      <td>145</td>\n      <td>7</td>\n      <td>0</td>\n      <td>NaN</td>\n      <td>NaN</td>\n      <td>1</td>\n      <td>164</td>\n    </tr>\n    <tr>\n      <th>46523</th>\n      <td>44807786</td>\n      <td>Cozy &amp; comfy apt in the heart of Inwood Manhattan</td>\n      <td>284790520</td>\n      <td>Salar</td>\n      <td>Manhattan</td>\n      <td>Washington Heights</td>\n      <td>40.85820</td>\n      <td>-73.92733</td>\n      <td>Entire home/apt</td>\n      <td>87</td>\n      <td>6</td>\n      <td>0</td>\n      <td>NaN</td>\n      <td>NaN</td>\n      <td>2</td>\n      <td>85</td>\n    </tr>\n    <tr>\n      <th>46524</th>\n      <td>44811717</td>\n      <td>Comfortable safe environment 24hr security camera</td>\n      <td>362453686</td>\n      <td>Nicole</td>\n      <td>Brooklyn</td>\n      <td>East Flatbush</td>\n      <td>40.65399</td>\n      <td>-73.93287</td>\n      <td>Private room</td>\n      <td>59</td>\n      <td>3</td>\n      <td>0</td>\n      <td>NaN</td>\n      <td>NaN</td>\n      <td>1</td>\n      <td>90</td>\n    </tr>\n    <tr>\n      <th>46525</th>\n      <td>44814944</td>\n      <td>Upper West Side studio 86th Street</td>\n      <td>4039777</td>\n      <td>Fernando</td>\n      <td>Manhattan</td>\n      <td>Upper West Side</td>\n      <td>40.78731</td>\n      <td>-73.97029</td>\n      <td>Entire home/apt</td>\n      <td>80</td>\n      <td>30</td>\n      <td>0</td>\n      <td>NaN</td>\n      <td>NaN</td>\n      <td>1</td>\n      <td>113</td>\n    </tr>\n    <tr>\n      <th>46526</th>\n      <td>44818009</td>\n      <td>5MIN D/N trains, NEAR THE BEACH, 50’ TO MANHATTAN</td>\n      <td>48098268</td>\n      <td>Marina</td>\n      <td>Brooklyn</td>\n      <td>Gravesend</td>\n      <td>40.59945</td>\n      <td>-73.98209</td>\n      <td>Private room</td>\n      <td>66</td>\n      <td>1</td>\n      <td>0</td>\n      <td>NaN</td>\n      <td>NaN</td>\n      <td>1</td>\n      <td>38</td>\n    </tr>\n  </tbody>\n</table>\n<p>46527 rows × 16 columns</p>\n</div>"
     },
     "execution_count": 3,
     "metadata": {},
     "output_type": "execute_result"
    }
   ],
   "source": [
    "# Load data here\n",
    "data = pd.read_csv(\"data/listings.csv\")\n",
    "data"
   ]
  },
  {
   "cell_type": "markdown",
   "metadata": {},
   "source": [
    "## Exercise 2 - Filtering\n",
    "\n",
    "Return the following subsets of the dataframe.\n",
    "\n",
    "1. How many listings are there with a price less than 100? \n",
    "\n",
    "\n",
    "2. Find how many listings there are in just Brooklyn.\n",
    "\n",
    "\n",
    "3. Find how many listings there are in Brooklyn with a price less than 100.\n",
    "\n",
    "\n",
    "4. Using `.isin()` select anyone that has the host name of Michael, David, John, and Daniel.\n",
    "\n",
    "\n",
    "5. Create a new column called `adjusted_price` that has $100 added to every listing in Williamsburg.  The prices for all other listings should be the same as the were before. \n",
    "\n",
    "\n",
    "6. What % of the rooms are private, and what % of the rooms are shared.  \n",
    "    * Hint, use `.value_counts()`\n"
   ]
  },
  {
   "cell_type": "code",
   "execution_count": 4,
   "metadata": {},
   "outputs": [
    {
     "name": "stdout",
     "output_type": "stream",
     "text": [
      "22778\n"
     ]
    }
   ],
   "source": [
    "# 1. How many listings are there with a price less than 100? \n",
    "\n",
    "print((data['price'] < 100).sum())"
   ]
  },
  {
   "cell_type": "code",
   "execution_count": 5,
   "metadata": {},
   "outputs": [
    {
     "name": "stdout",
     "output_type": "stream",
     "text": [
      "18632\n"
     ]
    },
    {
     "data": {
      "text/plain": "             id                                               name    host_id  \\\n1          3831  Whole flr w/private bdrm, bath & kitchen(pls r...       4869   \n2          5121                                    BlissArtsSpace!       7356   \n3          5136           Spacious Brooklyn Duplex, Patio + Garden       7378   \n8          5803     Lovely Room 1, Garden, Best Area, Legal rental       9744   \n11         6848                   Only 2 stops to Manhattan studio      15991   \n...         ...                                                ...        ...   \n46517  44802032                  A very large room in Williamsburg  213793805   \n46518  44802224  Unique & beautiful design! Skylights-Washer/dryer  143513836   \n46519  44803201  1200 SF Duplex apt in an old shoe factory/ mon...     921746   \n46524  44811717  Comfortable safe environment 24hr security camera  362453686   \n46526  44818009  5MIN D/N trains, NEAR THE BEACH, 50’ TO MANHATTAN   48098268   \n\n             host_name neighbourhood_group       neighbourhood  latitude  \\\n1          LisaRoxanne            Brooklyn        Clinton Hill  40.68514   \n2                Garon            Brooklyn  Bedford-Stuyvesant  40.68688   \n3              Rebecca            Brooklyn         Sunset Park  40.66120   \n8               Laurie            Brooklyn         South Slope  40.66829   \n11       Allen & Irina            Brooklyn        Williamsburg  40.70837   \n...                ...                 ...                 ...       ...   \n46517             Omer            Brooklyn        Williamsburg  40.71970   \n46518        Elisabeth            Brooklyn       Crown Heights  40.67302   \n46519  Michael + Josué            Brooklyn        Clinton Hill  40.69034   \n46524           Nicole            Brooklyn       East Flatbush  40.65399   \n46526           Marina            Brooklyn           Gravesend  40.59945   \n\n       longitude        room_type  price  minimum_nights  number_of_reviews  \\\n1      -73.95976  Entire home/apt     75               1                340   \n2      -73.95596     Private room     60              29                 50   \n3      -73.99423  Entire home/apt    175              14                  1   \n8      -73.98779     Private room     88               4                180   \n11     -73.95352  Entire home/apt    109               2                181   \n...          ...              ...    ...             ...                ...   \n46517  -73.95632     Private room     55              14                  0   \n46518  -73.91695     Private room     61              30                  0   \n46519  -73.96179  Entire home/apt    253              30                  0   \n46524  -73.93287     Private room     59               3                  0   \n46526  -73.98209     Private room     66               1                  0   \n\n      last_review  reviews_per_month  calculated_host_listings_count  \\\n1      2020-08-01               4.75                               1   \n2      2019-12-02               0.37                               1   \n3      2014-01-02               0.01                               1   \n8      2020-03-18               1.31                               3   \n11     2020-03-16               1.32                               1   \n...           ...                ...                             ...   \n46517         NaN                NaN                               1   \n46518         NaN                NaN                               5   \n46519         NaN                NaN                               1   \n46524         NaN                NaN                               1   \n46526         NaN                NaN                               1   \n\n       availability_365  \n1                   265  \n2                   365  \n3                   295  \n8                   344  \n11                    0  \n...                 ...  \n46517                45  \n46518               363  \n46519                74  \n46524                90  \n46526                38  \n\n[18632 rows x 16 columns]",
      "text/html": "<div>\n<style scoped>\n    .dataframe tbody tr th:only-of-type {\n        vertical-align: middle;\n    }\n\n    .dataframe tbody tr th {\n        vertical-align: top;\n    }\n\n    .dataframe thead th {\n        text-align: right;\n    }\n</style>\n<table border=\"1\" class=\"dataframe\">\n  <thead>\n    <tr style=\"text-align: right;\">\n      <th></th>\n      <th>id</th>\n      <th>name</th>\n      <th>host_id</th>\n      <th>host_name</th>\n      <th>neighbourhood_group</th>\n      <th>neighbourhood</th>\n      <th>latitude</th>\n      <th>longitude</th>\n      <th>room_type</th>\n      <th>price</th>\n      <th>minimum_nights</th>\n      <th>number_of_reviews</th>\n      <th>last_review</th>\n      <th>reviews_per_month</th>\n      <th>calculated_host_listings_count</th>\n      <th>availability_365</th>\n    </tr>\n  </thead>\n  <tbody>\n    <tr>\n      <th>1</th>\n      <td>3831</td>\n      <td>Whole flr w/private bdrm, bath &amp; kitchen(pls r...</td>\n      <td>4869</td>\n      <td>LisaRoxanne</td>\n      <td>Brooklyn</td>\n      <td>Clinton Hill</td>\n      <td>40.68514</td>\n      <td>-73.95976</td>\n      <td>Entire home/apt</td>\n      <td>75</td>\n      <td>1</td>\n      <td>340</td>\n      <td>2020-08-01</td>\n      <td>4.75</td>\n      <td>1</td>\n      <td>265</td>\n    </tr>\n    <tr>\n      <th>2</th>\n      <td>5121</td>\n      <td>BlissArtsSpace!</td>\n      <td>7356</td>\n      <td>Garon</td>\n      <td>Brooklyn</td>\n      <td>Bedford-Stuyvesant</td>\n      <td>40.68688</td>\n      <td>-73.95596</td>\n      <td>Private room</td>\n      <td>60</td>\n      <td>29</td>\n      <td>50</td>\n      <td>2019-12-02</td>\n      <td>0.37</td>\n      <td>1</td>\n      <td>365</td>\n    </tr>\n    <tr>\n      <th>3</th>\n      <td>5136</td>\n      <td>Spacious Brooklyn Duplex, Patio + Garden</td>\n      <td>7378</td>\n      <td>Rebecca</td>\n      <td>Brooklyn</td>\n      <td>Sunset Park</td>\n      <td>40.66120</td>\n      <td>-73.99423</td>\n      <td>Entire home/apt</td>\n      <td>175</td>\n      <td>14</td>\n      <td>1</td>\n      <td>2014-01-02</td>\n      <td>0.01</td>\n      <td>1</td>\n      <td>295</td>\n    </tr>\n    <tr>\n      <th>8</th>\n      <td>5803</td>\n      <td>Lovely Room 1, Garden, Best Area, Legal rental</td>\n      <td>9744</td>\n      <td>Laurie</td>\n      <td>Brooklyn</td>\n      <td>South Slope</td>\n      <td>40.66829</td>\n      <td>-73.98779</td>\n      <td>Private room</td>\n      <td>88</td>\n      <td>4</td>\n      <td>180</td>\n      <td>2020-03-18</td>\n      <td>1.31</td>\n      <td>3</td>\n      <td>344</td>\n    </tr>\n    <tr>\n      <th>11</th>\n      <td>6848</td>\n      <td>Only 2 stops to Manhattan studio</td>\n      <td>15991</td>\n      <td>Allen &amp; Irina</td>\n      <td>Brooklyn</td>\n      <td>Williamsburg</td>\n      <td>40.70837</td>\n      <td>-73.95352</td>\n      <td>Entire home/apt</td>\n      <td>109</td>\n      <td>2</td>\n      <td>181</td>\n      <td>2020-03-16</td>\n      <td>1.32</td>\n      <td>1</td>\n      <td>0</td>\n    </tr>\n    <tr>\n      <th>...</th>\n      <td>...</td>\n      <td>...</td>\n      <td>...</td>\n      <td>...</td>\n      <td>...</td>\n      <td>...</td>\n      <td>...</td>\n      <td>...</td>\n      <td>...</td>\n      <td>...</td>\n      <td>...</td>\n      <td>...</td>\n      <td>...</td>\n      <td>...</td>\n      <td>...</td>\n      <td>...</td>\n    </tr>\n    <tr>\n      <th>46517</th>\n      <td>44802032</td>\n      <td>A very large room in Williamsburg</td>\n      <td>213793805</td>\n      <td>Omer</td>\n      <td>Brooklyn</td>\n      <td>Williamsburg</td>\n      <td>40.71970</td>\n      <td>-73.95632</td>\n      <td>Private room</td>\n      <td>55</td>\n      <td>14</td>\n      <td>0</td>\n      <td>NaN</td>\n      <td>NaN</td>\n      <td>1</td>\n      <td>45</td>\n    </tr>\n    <tr>\n      <th>46518</th>\n      <td>44802224</td>\n      <td>Unique &amp; beautiful design! Skylights-Washer/dryer</td>\n      <td>143513836</td>\n      <td>Elisabeth</td>\n      <td>Brooklyn</td>\n      <td>Crown Heights</td>\n      <td>40.67302</td>\n      <td>-73.91695</td>\n      <td>Private room</td>\n      <td>61</td>\n      <td>30</td>\n      <td>0</td>\n      <td>NaN</td>\n      <td>NaN</td>\n      <td>5</td>\n      <td>363</td>\n    </tr>\n    <tr>\n      <th>46519</th>\n      <td>44803201</td>\n      <td>1200 SF Duplex apt in an old shoe factory/ mon...</td>\n      <td>921746</td>\n      <td>Michael + Josué</td>\n      <td>Brooklyn</td>\n      <td>Clinton Hill</td>\n      <td>40.69034</td>\n      <td>-73.96179</td>\n      <td>Entire home/apt</td>\n      <td>253</td>\n      <td>30</td>\n      <td>0</td>\n      <td>NaN</td>\n      <td>NaN</td>\n      <td>1</td>\n      <td>74</td>\n    </tr>\n    <tr>\n      <th>46524</th>\n      <td>44811717</td>\n      <td>Comfortable safe environment 24hr security camera</td>\n      <td>362453686</td>\n      <td>Nicole</td>\n      <td>Brooklyn</td>\n      <td>East Flatbush</td>\n      <td>40.65399</td>\n      <td>-73.93287</td>\n      <td>Private room</td>\n      <td>59</td>\n      <td>3</td>\n      <td>0</td>\n      <td>NaN</td>\n      <td>NaN</td>\n      <td>1</td>\n      <td>90</td>\n    </tr>\n    <tr>\n      <th>46526</th>\n      <td>44818009</td>\n      <td>5MIN D/N trains, NEAR THE BEACH, 50’ TO MANHATTAN</td>\n      <td>48098268</td>\n      <td>Marina</td>\n      <td>Brooklyn</td>\n      <td>Gravesend</td>\n      <td>40.59945</td>\n      <td>-73.98209</td>\n      <td>Private room</td>\n      <td>66</td>\n      <td>1</td>\n      <td>0</td>\n      <td>NaN</td>\n      <td>NaN</td>\n      <td>1</td>\n      <td>38</td>\n    </tr>\n  </tbody>\n</table>\n<p>18632 rows × 16 columns</p>\n</div>"
     },
     "execution_count": 5,
     "metadata": {},
     "output_type": "execute_result"
    }
   ],
   "source": [
    "# 2. Make a new DataFrame of listings in Brooklyn named `df_bk` \n",
    "# and find how many listings in just Brooklyn.\n",
    "\n",
    "df_bk = data.loc[(data['neighbourhood_group'] == 'Brooklyn')]\n",
    "print(len(df_bk))\n",
    "df_bk"
   ]
  },
  {
   "cell_type": "code",
   "execution_count": 6,
   "metadata": {},
   "outputs": [
    {
     "data": {
      "text/plain": "10473"
     },
     "execution_count": 6,
     "metadata": {},
     "output_type": "execute_result"
    }
   ],
   "source": [
    "# 3. Find how many listings there are in Brooklyn with a price less than 100.\n",
    "\n",
    "(df_bk['price'] < 100).sum()"
   ]
  },
  {
   "cell_type": "code",
   "execution_count": 7,
   "metadata": {},
   "outputs": [
    {
     "name": "stdout",
     "output_type": "stream",
     "text": [
      "312\n"
     ]
    }
   ],
   "source": [
    "# 4. Using `.isin()` select anyone that has the host name of Michael, David, John, and Daniel.\n",
    "# How many total are there that have those names\n",
    "\n",
    "print((df_bk.isin({'host_name': ['Michal', 'David', 'John', 'Daniel']}))['host_name'].sum())\n",
    "# using isin to check df_bk has a host name from the list and returns a dataframe with true/false for each row for the host name, then using host name to index that dataframe and get the sum of all trues (1)"
   ]
  },
  {
   "cell_type": "code",
   "execution_count": 8,
   "metadata": {},
   "outputs": [
    {
     "name": "stderr",
     "output_type": "stream",
     "text": [
      "C:\\Users\\mehed\\AppData\\Local\\Temp\\ipykernel_15824\\2760009632.py:4: SettingWithCopyWarning: \n",
      "A value is trying to be set on a copy of a slice from a DataFrame.\n",
      "Try using .loc[row_indexer,col_indexer] = value instead\n",
      "\n",
      "See the caveats in the documentation: https://pandas.pydata.org/pandas-docs/stable/user_guide/indexing.html#returning-a-view-versus-a-copy\n",
      "  df_bk['adjusted_price'] = np.where(df_bk['neighbourhood'] == 'Williamsburg', df_bk['price'] + 100, df_bk['price'])\n"
     ]
    },
    {
     "data": {
      "text/plain": "             id                                               name    host_id  \\\n1          3831  Whole flr w/private bdrm, bath & kitchen(pls r...       4869   \n2          5121                                    BlissArtsSpace!       7356   \n3          5136           Spacious Brooklyn Duplex, Patio + Garden       7378   \n8          5803     Lovely Room 1, Garden, Best Area, Legal rental       9744   \n11         6848                   Only 2 stops to Manhattan studio      15991   \n...         ...                                                ...        ...   \n46517  44802032                  A very large room in Williamsburg  213793805   \n46518  44802224  Unique & beautiful design! Skylights-Washer/dryer  143513836   \n46519  44803201  1200 SF Duplex apt in an old shoe factory/ mon...     921746   \n46524  44811717  Comfortable safe environment 24hr security camera  362453686   \n46526  44818009  5MIN D/N trains, NEAR THE BEACH, 50’ TO MANHATTAN   48098268   \n\n             host_name neighbourhood_group       neighbourhood  latitude  \\\n1          LisaRoxanne            Brooklyn        Clinton Hill  40.68514   \n2                Garon            Brooklyn  Bedford-Stuyvesant  40.68688   \n3              Rebecca            Brooklyn         Sunset Park  40.66120   \n8               Laurie            Brooklyn         South Slope  40.66829   \n11       Allen & Irina            Brooklyn        Williamsburg  40.70837   \n...                ...                 ...                 ...       ...   \n46517             Omer            Brooklyn        Williamsburg  40.71970   \n46518        Elisabeth            Brooklyn       Crown Heights  40.67302   \n46519  Michael + Josué            Brooklyn        Clinton Hill  40.69034   \n46524           Nicole            Brooklyn       East Flatbush  40.65399   \n46526           Marina            Brooklyn           Gravesend  40.59945   \n\n       longitude        room_type  price  minimum_nights  number_of_reviews  \\\n1      -73.95976  Entire home/apt     75               1                340   \n2      -73.95596     Private room     60              29                 50   \n3      -73.99423  Entire home/apt    175              14                  1   \n8      -73.98779     Private room     88               4                180   \n11     -73.95352  Entire home/apt    109               2                181   \n...          ...              ...    ...             ...                ...   \n46517  -73.95632     Private room     55              14                  0   \n46518  -73.91695     Private room     61              30                  0   \n46519  -73.96179  Entire home/apt    253              30                  0   \n46524  -73.93287     Private room     59               3                  0   \n46526  -73.98209     Private room     66               1                  0   \n\n      last_review  reviews_per_month  calculated_host_listings_count  \\\n1      2020-08-01               4.75                               1   \n2      2019-12-02               0.37                               1   \n3      2014-01-02               0.01                               1   \n8      2020-03-18               1.31                               3   \n11     2020-03-16               1.32                               1   \n...           ...                ...                             ...   \n46517         NaN                NaN                               1   \n46518         NaN                NaN                               5   \n46519         NaN                NaN                               1   \n46524         NaN                NaN                               1   \n46526         NaN                NaN                               1   \n\n       availability_365  adjusted_price  \n1                   265              75  \n2                   365              60  \n3                   295             175  \n8                   344              88  \n11                    0             209  \n...                 ...             ...  \n46517                45             155  \n46518               363              61  \n46519                74             253  \n46524                90              59  \n46526                38              66  \n\n[18632 rows x 17 columns]",
      "text/html": "<div>\n<style scoped>\n    .dataframe tbody tr th:only-of-type {\n        vertical-align: middle;\n    }\n\n    .dataframe tbody tr th {\n        vertical-align: top;\n    }\n\n    .dataframe thead th {\n        text-align: right;\n    }\n</style>\n<table border=\"1\" class=\"dataframe\">\n  <thead>\n    <tr style=\"text-align: right;\">\n      <th></th>\n      <th>id</th>\n      <th>name</th>\n      <th>host_id</th>\n      <th>host_name</th>\n      <th>neighbourhood_group</th>\n      <th>neighbourhood</th>\n      <th>latitude</th>\n      <th>longitude</th>\n      <th>room_type</th>\n      <th>price</th>\n      <th>minimum_nights</th>\n      <th>number_of_reviews</th>\n      <th>last_review</th>\n      <th>reviews_per_month</th>\n      <th>calculated_host_listings_count</th>\n      <th>availability_365</th>\n      <th>adjusted_price</th>\n    </tr>\n  </thead>\n  <tbody>\n    <tr>\n      <th>1</th>\n      <td>3831</td>\n      <td>Whole flr w/private bdrm, bath &amp; kitchen(pls r...</td>\n      <td>4869</td>\n      <td>LisaRoxanne</td>\n      <td>Brooklyn</td>\n      <td>Clinton Hill</td>\n      <td>40.68514</td>\n      <td>-73.95976</td>\n      <td>Entire home/apt</td>\n      <td>75</td>\n      <td>1</td>\n      <td>340</td>\n      <td>2020-08-01</td>\n      <td>4.75</td>\n      <td>1</td>\n      <td>265</td>\n      <td>75</td>\n    </tr>\n    <tr>\n      <th>2</th>\n      <td>5121</td>\n      <td>BlissArtsSpace!</td>\n      <td>7356</td>\n      <td>Garon</td>\n      <td>Brooklyn</td>\n      <td>Bedford-Stuyvesant</td>\n      <td>40.68688</td>\n      <td>-73.95596</td>\n      <td>Private room</td>\n      <td>60</td>\n      <td>29</td>\n      <td>50</td>\n      <td>2019-12-02</td>\n      <td>0.37</td>\n      <td>1</td>\n      <td>365</td>\n      <td>60</td>\n    </tr>\n    <tr>\n      <th>3</th>\n      <td>5136</td>\n      <td>Spacious Brooklyn Duplex, Patio + Garden</td>\n      <td>7378</td>\n      <td>Rebecca</td>\n      <td>Brooklyn</td>\n      <td>Sunset Park</td>\n      <td>40.66120</td>\n      <td>-73.99423</td>\n      <td>Entire home/apt</td>\n      <td>175</td>\n      <td>14</td>\n      <td>1</td>\n      <td>2014-01-02</td>\n      <td>0.01</td>\n      <td>1</td>\n      <td>295</td>\n      <td>175</td>\n    </tr>\n    <tr>\n      <th>8</th>\n      <td>5803</td>\n      <td>Lovely Room 1, Garden, Best Area, Legal rental</td>\n      <td>9744</td>\n      <td>Laurie</td>\n      <td>Brooklyn</td>\n      <td>South Slope</td>\n      <td>40.66829</td>\n      <td>-73.98779</td>\n      <td>Private room</td>\n      <td>88</td>\n      <td>4</td>\n      <td>180</td>\n      <td>2020-03-18</td>\n      <td>1.31</td>\n      <td>3</td>\n      <td>344</td>\n      <td>88</td>\n    </tr>\n    <tr>\n      <th>11</th>\n      <td>6848</td>\n      <td>Only 2 stops to Manhattan studio</td>\n      <td>15991</td>\n      <td>Allen &amp; Irina</td>\n      <td>Brooklyn</td>\n      <td>Williamsburg</td>\n      <td>40.70837</td>\n      <td>-73.95352</td>\n      <td>Entire home/apt</td>\n      <td>109</td>\n      <td>2</td>\n      <td>181</td>\n      <td>2020-03-16</td>\n      <td>1.32</td>\n      <td>1</td>\n      <td>0</td>\n      <td>209</td>\n    </tr>\n    <tr>\n      <th>...</th>\n      <td>...</td>\n      <td>...</td>\n      <td>...</td>\n      <td>...</td>\n      <td>...</td>\n      <td>...</td>\n      <td>...</td>\n      <td>...</td>\n      <td>...</td>\n      <td>...</td>\n      <td>...</td>\n      <td>...</td>\n      <td>...</td>\n      <td>...</td>\n      <td>...</td>\n      <td>...</td>\n      <td>...</td>\n    </tr>\n    <tr>\n      <th>46517</th>\n      <td>44802032</td>\n      <td>A very large room in Williamsburg</td>\n      <td>213793805</td>\n      <td>Omer</td>\n      <td>Brooklyn</td>\n      <td>Williamsburg</td>\n      <td>40.71970</td>\n      <td>-73.95632</td>\n      <td>Private room</td>\n      <td>55</td>\n      <td>14</td>\n      <td>0</td>\n      <td>NaN</td>\n      <td>NaN</td>\n      <td>1</td>\n      <td>45</td>\n      <td>155</td>\n    </tr>\n    <tr>\n      <th>46518</th>\n      <td>44802224</td>\n      <td>Unique &amp; beautiful design! Skylights-Washer/dryer</td>\n      <td>143513836</td>\n      <td>Elisabeth</td>\n      <td>Brooklyn</td>\n      <td>Crown Heights</td>\n      <td>40.67302</td>\n      <td>-73.91695</td>\n      <td>Private room</td>\n      <td>61</td>\n      <td>30</td>\n      <td>0</td>\n      <td>NaN</td>\n      <td>NaN</td>\n      <td>5</td>\n      <td>363</td>\n      <td>61</td>\n    </tr>\n    <tr>\n      <th>46519</th>\n      <td>44803201</td>\n      <td>1200 SF Duplex apt in an old shoe factory/ mon...</td>\n      <td>921746</td>\n      <td>Michael + Josué</td>\n      <td>Brooklyn</td>\n      <td>Clinton Hill</td>\n      <td>40.69034</td>\n      <td>-73.96179</td>\n      <td>Entire home/apt</td>\n      <td>253</td>\n      <td>30</td>\n      <td>0</td>\n      <td>NaN</td>\n      <td>NaN</td>\n      <td>1</td>\n      <td>74</td>\n      <td>253</td>\n    </tr>\n    <tr>\n      <th>46524</th>\n      <td>44811717</td>\n      <td>Comfortable safe environment 24hr security camera</td>\n      <td>362453686</td>\n      <td>Nicole</td>\n      <td>Brooklyn</td>\n      <td>East Flatbush</td>\n      <td>40.65399</td>\n      <td>-73.93287</td>\n      <td>Private room</td>\n      <td>59</td>\n      <td>3</td>\n      <td>0</td>\n      <td>NaN</td>\n      <td>NaN</td>\n      <td>1</td>\n      <td>90</td>\n      <td>59</td>\n    </tr>\n    <tr>\n      <th>46526</th>\n      <td>44818009</td>\n      <td>5MIN D/N trains, NEAR THE BEACH, 50’ TO MANHATTAN</td>\n      <td>48098268</td>\n      <td>Marina</td>\n      <td>Brooklyn</td>\n      <td>Gravesend</td>\n      <td>40.59945</td>\n      <td>-73.98209</td>\n      <td>Private room</td>\n      <td>66</td>\n      <td>1</td>\n      <td>0</td>\n      <td>NaN</td>\n      <td>NaN</td>\n      <td>1</td>\n      <td>38</td>\n      <td>66</td>\n    </tr>\n  </tbody>\n</table>\n<p>18632 rows × 17 columns</p>\n</div>"
     },
     "execution_count": 8,
     "metadata": {},
     "output_type": "execute_result"
    }
   ],
   "source": [
    "# 5. Create a new column called `adjusted_price` that has $100 added to every listing in Williamsburg.\n",
    "# The prices for all other listings should be the same as the were before.\n",
    "\n",
    "df_bk['adjusted_price'] = np.where(df_bk['neighbourhood'] == 'Williamsburg', df_bk['price'] + 100, df_bk['price'])\n",
    "df_bk\n",
    "# create new column by assigning the name to data frame where neighborhood is williamsburg with price + 100 if true else price"
   ]
  },
  {
   "cell_type": "code",
   "execution_count": 9,
   "metadata": {},
   "outputs": [
    {
     "name": "stdout",
     "output_type": "stream",
     "text": [
      "2.12134889419047 45.444580566122895\n",
      "Shared rooms: 2.12134889419047%\n",
      "Private rooms: 45.444580566122895%\n"
     ]
    }
   ],
   "source": [
    "# 6. What % of the rooms are private, and what % of the rooms are shared.  \n",
    "\n",
    "print((data['room_type'] == 'Shared room').sum()/len(data) * 100, (data['room_type'] == 'Private room').sum()/len(data) * 100)\n",
    "# sum counts the number of true values (1) in the resulting series and sum will sum those true values\n",
    "\n",
    "total_rooms = len(data)\n",
    "shared_rooms_percentage = (data['room_type'].value_counts()['Shared room'] / total_rooms) * 100\n",
    "private_rooms_percentage = (data['room_type'].value_counts()['Private room'] / total_rooms) * 100\n",
    "\n",
    "print(f\"Shared rooms: {shared_rooms_percentage}%\")\n",
    "print(f\"Private rooms: {private_rooms_percentage}%\")\n",
    "# can also use the value counts which will count the unique values of room type in indexing shared room will give us that count"
   ]
  },
  {
   "cell_type": "markdown",
   "metadata": {},
   "source": [
    "# Exercise 3 - Grouping\n",
    "\n",
    "1. Using `groupby`, count how many listings are in each neighbourhood_group.\n",
    "\n",
    "\n",
    "2. Using `groupby`, find the mean price for each of the neighbourhood_groups. \n",
    "\n",
    "\n",
    "3. Using `groupby` and `.agg()`, find the min and max price for each of the neighbourhood_groups. \n",
    "\n",
    "\n",
    "4. Using `groupby`, find the median price for each room type in each neighbourhood_group.\n",
    "\n",
    "\n",
    "5. Using `groupby` and `.agg()`, find the count, min, max, mean, median, and std of the prices for each room type in each neighbourhood_group."
   ]
  },
  {
   "cell_type": "code",
   "execution_count": 10,
   "metadata": {},
   "outputs": [
    {
     "data": {
      "text/plain": "neighbourhood_group\nBronx             1183\nBrooklyn         18632\nManhattan        20580\nQueens            5791\nStaten Island      341\ndtype: int64"
     },
     "execution_count": 10,
     "metadata": {},
     "output_type": "execute_result"
    }
   ],
   "source": [
    "# 1. Using `groupby`, count how many listings are in each neighbourhood_group.\n",
    "\n",
    "data.groupby('neighbourhood_group').size()\n",
    "# group by neighborhood and get size (number of rows) in each group"
   ]
  },
  {
   "cell_type": "code",
   "execution_count": 11,
   "metadata": {},
   "outputs": [
    {
     "data": {
      "text/plain": "neighbourhood_group\nBronx             92.751479\nBrooklyn         120.225258\nManhattan        191.880466\nQueens            99.754965\nStaten Island    110.947214\nName: price, dtype: float64"
     },
     "execution_count": 11,
     "metadata": {},
     "output_type": "execute_result"
    }
   ],
   "source": [
    "# 2. Using `groupby`, find the mean price for each of the neighbourhood_groups. \n",
    "\n",
    "data.groupby('neighbourhood_group')['price'].mean()\n",
    "# group data by the group and index the price and apply mean to that index"
   ]
  },
  {
   "cell_type": "code",
   "execution_count": 20,
   "metadata": {},
   "outputs": [
    {
     "data": {
      "text/plain": "room_type\nEntire home/apt    199.395950\nHotel room         275.015075\nPrivate room        91.453084\nShared room         87.063830\nName: price, dtype: float64"
     },
     "execution_count": 20,
     "metadata": {},
     "output_type": "execute_result"
    }
   ],
   "source": [
    "# 2.5. Using `groupby`, find the mean price for each room_type. \n",
    "\n",
    "data.groupby('room_type')['price'].mean()\n",
    "# group by room type and mean of price column"
   ]
  },
  {
   "cell_type": "code",
   "execution_count": 22,
   "metadata": {},
   "outputs": [
    {
     "data": {
      "text/plain": "                     min    max\nneighbourhood_group            \nBronx                 16   1404\nBrooklyn               0  10000\nManhattan              0  10000\nQueens                 0  10000\nStaten Island         19   1200",
      "text/html": "<div>\n<style scoped>\n    .dataframe tbody tr th:only-of-type {\n        vertical-align: middle;\n    }\n\n    .dataframe tbody tr th {\n        vertical-align: top;\n    }\n\n    .dataframe thead th {\n        text-align: right;\n    }\n</style>\n<table border=\"1\" class=\"dataframe\">\n  <thead>\n    <tr style=\"text-align: right;\">\n      <th></th>\n      <th>min</th>\n      <th>max</th>\n    </tr>\n    <tr>\n      <th>neighbourhood_group</th>\n      <th></th>\n      <th></th>\n    </tr>\n  </thead>\n  <tbody>\n    <tr>\n      <th>Bronx</th>\n      <td>16</td>\n      <td>1404</td>\n    </tr>\n    <tr>\n      <th>Brooklyn</th>\n      <td>0</td>\n      <td>10000</td>\n    </tr>\n    <tr>\n      <th>Manhattan</th>\n      <td>0</td>\n      <td>10000</td>\n    </tr>\n    <tr>\n      <th>Queens</th>\n      <td>0</td>\n      <td>10000</td>\n    </tr>\n    <tr>\n      <th>Staten Island</th>\n      <td>19</td>\n      <td>1200</td>\n    </tr>\n  </tbody>\n</table>\n</div>"
     },
     "execution_count": 22,
     "metadata": {},
     "output_type": "execute_result"
    }
   ],
   "source": [
    "# 3. Using `groupby` and `.agg()`, find the min and max price for each of the neighbourhood_groups. \n",
    "\n",
    "data.groupby('neighbourhood_group')['price'].agg(['min', 'max'])\n",
    "# group by neighbourhood and find min and max of price (agg multiple fnx)"
   ]
  },
  {
   "cell_type": "code",
   "execution_count": 23,
   "metadata": {},
   "outputs": [
    {
     "data": {
      "text/plain": "room_type\nEntire home/apt    199.395950\nHotel room         275.015075\nPrivate room        91.453084\nShared room         87.063830\nName: price, dtype: float64"
     },
     "execution_count": 23,
     "metadata": {},
     "output_type": "execute_result"
    }
   ],
   "source": [
    "# 4. Using `groupby`, find the mean price for each room_type in each neighbourhood_group.\n",
    "\n",
    "data.groupby('room_type')['price'].mean()"
   ]
  },
  {
   "cell_type": "code",
   "execution_count": 24,
   "metadata": {},
   "outputs": [
    {
     "data": {
      "text/plain": "                                     count  min    max        mean  median  \\\nneighbourhood_group room_type                                                \nBronx               Entire home/apt    415   25   1404  138.004819   103.0   \n                    Private room       722   16    700   68.419668    55.0   \n                    Shared room         46   20    800   66.391304    44.0   \nBrooklyn            Entire home/apt   9112   20  10000  171.587687   135.0   \n                    Hotel room          30    0    399  147.300000   129.0   \n                    Private room      9159   10   2500   71.291189    60.0   \n                    Shared room        331   15   1500   57.870091    36.0   \nManhattan           Entire home/apt  12209    0  10000  231.335572   165.0   \n                    Hotel room         351    0   2211  292.515670   210.0   \n                    Private room      7601   10  10000  128.277069    80.0   \n                    Shared room        419   10  10000  111.735084    60.0   \nQueens              Entire home/apt   2090   10  10000  150.168900   115.0   \n                    Hotel room          17    0    249  139.058824   149.0   \n                    Private room      3499   18   9000   69.972564    55.0   \n                    Shared room        185   14   3000   89.891892    40.0   \nStaten Island       Entire home/apt    172   39   1200  151.720930   111.0   \n                    Private room       163   20    800   70.312883    55.0   \n                    Shared room          6   19     82   46.000000    38.0   \n\n                                            std  \nneighbourhood_group room_type                    \nBronx               Entire home/apt  126.032106  \n                    Private room      57.337866  \n                    Shared room      114.442703  \nBrooklyn            Entire home/apt  236.732843  \n                    Hotel room        91.153206  \n                    Private room      69.023165  \n                    Shared room       92.217618  \nManhattan           Entire home/apt  410.306439  \n                    Hotel room       315.924085  \n                    Private room     448.677306  \n                    Shared room      502.728868  \nQueens              Entire home/apt  252.606739  \n                    Hotel room        50.743806  \n                    Private room     163.814468  \n                    Shared room      275.675158  \nStaten Island       Entire home/apt  147.518392  \n                    Private room      70.759593  \n                    Shared room       28.446441  ",
      "text/html": "<div>\n<style scoped>\n    .dataframe tbody tr th:only-of-type {\n        vertical-align: middle;\n    }\n\n    .dataframe tbody tr th {\n        vertical-align: top;\n    }\n\n    .dataframe thead th {\n        text-align: right;\n    }\n</style>\n<table border=\"1\" class=\"dataframe\">\n  <thead>\n    <tr style=\"text-align: right;\">\n      <th></th>\n      <th></th>\n      <th>count</th>\n      <th>min</th>\n      <th>max</th>\n      <th>mean</th>\n      <th>median</th>\n      <th>std</th>\n    </tr>\n    <tr>\n      <th>neighbourhood_group</th>\n      <th>room_type</th>\n      <th></th>\n      <th></th>\n      <th></th>\n      <th></th>\n      <th></th>\n      <th></th>\n    </tr>\n  </thead>\n  <tbody>\n    <tr>\n      <th rowspan=\"3\" valign=\"top\">Bronx</th>\n      <th>Entire home/apt</th>\n      <td>415</td>\n      <td>25</td>\n      <td>1404</td>\n      <td>138.004819</td>\n      <td>103.0</td>\n      <td>126.032106</td>\n    </tr>\n    <tr>\n      <th>Private room</th>\n      <td>722</td>\n      <td>16</td>\n      <td>700</td>\n      <td>68.419668</td>\n      <td>55.0</td>\n      <td>57.337866</td>\n    </tr>\n    <tr>\n      <th>Shared room</th>\n      <td>46</td>\n      <td>20</td>\n      <td>800</td>\n      <td>66.391304</td>\n      <td>44.0</td>\n      <td>114.442703</td>\n    </tr>\n    <tr>\n      <th rowspan=\"4\" valign=\"top\">Brooklyn</th>\n      <th>Entire home/apt</th>\n      <td>9112</td>\n      <td>20</td>\n      <td>10000</td>\n      <td>171.587687</td>\n      <td>135.0</td>\n      <td>236.732843</td>\n    </tr>\n    <tr>\n      <th>Hotel room</th>\n      <td>30</td>\n      <td>0</td>\n      <td>399</td>\n      <td>147.300000</td>\n      <td>129.0</td>\n      <td>91.153206</td>\n    </tr>\n    <tr>\n      <th>Private room</th>\n      <td>9159</td>\n      <td>10</td>\n      <td>2500</td>\n      <td>71.291189</td>\n      <td>60.0</td>\n      <td>69.023165</td>\n    </tr>\n    <tr>\n      <th>Shared room</th>\n      <td>331</td>\n      <td>15</td>\n      <td>1500</td>\n      <td>57.870091</td>\n      <td>36.0</td>\n      <td>92.217618</td>\n    </tr>\n    <tr>\n      <th rowspan=\"4\" valign=\"top\">Manhattan</th>\n      <th>Entire home/apt</th>\n      <td>12209</td>\n      <td>0</td>\n      <td>10000</td>\n      <td>231.335572</td>\n      <td>165.0</td>\n      <td>410.306439</td>\n    </tr>\n    <tr>\n      <th>Hotel room</th>\n      <td>351</td>\n      <td>0</td>\n      <td>2211</td>\n      <td>292.515670</td>\n      <td>210.0</td>\n      <td>315.924085</td>\n    </tr>\n    <tr>\n      <th>Private room</th>\n      <td>7601</td>\n      <td>10</td>\n      <td>10000</td>\n      <td>128.277069</td>\n      <td>80.0</td>\n      <td>448.677306</td>\n    </tr>\n    <tr>\n      <th>Shared room</th>\n      <td>419</td>\n      <td>10</td>\n      <td>10000</td>\n      <td>111.735084</td>\n      <td>60.0</td>\n      <td>502.728868</td>\n    </tr>\n    <tr>\n      <th rowspan=\"4\" valign=\"top\">Queens</th>\n      <th>Entire home/apt</th>\n      <td>2090</td>\n      <td>10</td>\n      <td>10000</td>\n      <td>150.168900</td>\n      <td>115.0</td>\n      <td>252.606739</td>\n    </tr>\n    <tr>\n      <th>Hotel room</th>\n      <td>17</td>\n      <td>0</td>\n      <td>249</td>\n      <td>139.058824</td>\n      <td>149.0</td>\n      <td>50.743806</td>\n    </tr>\n    <tr>\n      <th>Private room</th>\n      <td>3499</td>\n      <td>18</td>\n      <td>9000</td>\n      <td>69.972564</td>\n      <td>55.0</td>\n      <td>163.814468</td>\n    </tr>\n    <tr>\n      <th>Shared room</th>\n      <td>185</td>\n      <td>14</td>\n      <td>3000</td>\n      <td>89.891892</td>\n      <td>40.0</td>\n      <td>275.675158</td>\n    </tr>\n    <tr>\n      <th rowspan=\"3\" valign=\"top\">Staten Island</th>\n      <th>Entire home/apt</th>\n      <td>172</td>\n      <td>39</td>\n      <td>1200</td>\n      <td>151.720930</td>\n      <td>111.0</td>\n      <td>147.518392</td>\n    </tr>\n    <tr>\n      <th>Private room</th>\n      <td>163</td>\n      <td>20</td>\n      <td>800</td>\n      <td>70.312883</td>\n      <td>55.0</td>\n      <td>70.759593</td>\n    </tr>\n    <tr>\n      <th>Shared room</th>\n      <td>6</td>\n      <td>19</td>\n      <td>82</td>\n      <td>46.000000</td>\n      <td>38.0</td>\n      <td>28.446441</td>\n    </tr>\n  </tbody>\n</table>\n</div>"
     },
     "execution_count": 24,
     "metadata": {},
     "output_type": "execute_result"
    }
   ],
   "source": [
    "# 5. Using `groupby` and `.agg()`, find the count, min, max, mean, median, and std of the prices \n",
    "# for each room type in each neighbourhood_group.\n",
    "\n",
    "data.groupby(['neighbourhood_group', 'room_type'])['price'].agg(['count', 'min', 'max', 'mean', 'median', 'std'])"
   ]
  },
  {
   "cell_type": "markdown",
   "metadata": {},
   "source": [
    "# Load, Merge, and Export files.\n",
    "1. Load the `prices.csv` and the `n_listings.csv`\n",
    "    * Having an error..? Inspect the actual csv file if you're having trouble\n",
    "\n",
    "2. Do join that keeps all the records for each table.\n",
    "    * Neighbourhood groups should include ['Bronx', 'Brooklyn', 'Manhattan', 'Queens', 'Staten Island',\n",
    "       'LongIsland']\n",
    "\n",
    "       \n",
    "3. Save your joined csv as `joined.csv` into the data folder. \n",
    "\n",
    "\n",
    "4. Load your saved table and see if it looks the same or different that the DataFrame you used to create it. "
   ]
  },
  {
   "cell_type": "code",
   "execution_count": 28,
   "metadata": {},
   "outputs": [
    {
     "data": {
      "text/plain": "(  neighbourhood_group   mean_price\n 0               Bronx    92.751479\n 1            Brooklyn   120.225258\n 2           Manhattan   191.880466\n 3              Queens    99.754965\n 4       Staten Island   110.947214,\n   neighbourhood_group  n_listings\n 0               Bronx        1183\n 1            Brooklyn       18632\n 2           Manhattan       20580\n 3          LongIsland        4121)"
     },
     "execution_count": 28,
     "metadata": {},
     "output_type": "execute_result"
    }
   ],
   "source": [
    "# 1. Load the `prices.csv` and the `n_listings.csv`\n",
    "prices = pd.read_csv('data/prices.csv')\n",
    "n_listings = pd.read_csv('data/n_listings.csv', delimiter=';')\n",
    "\n",
    "prices, n_listings"
   ]
  },
  {
   "cell_type": "code",
   "execution_count": 29,
   "metadata": {},
   "outputs": [
    {
     "data": {
      "text/plain": "  neighbourhood_group   mean_price  n_listings\n0               Bronx    92.751479      1183.0\n1            Brooklyn   120.225258     18632.0\n2          LongIsland          NaN      4121.0\n3           Manhattan   191.880466     20580.0\n4              Queens    99.754965         NaN\n5       Staten Island   110.947214         NaN",
      "text/html": "<div>\n<style scoped>\n    .dataframe tbody tr th:only-of-type {\n        vertical-align: middle;\n    }\n\n    .dataframe tbody tr th {\n        vertical-align: top;\n    }\n\n    .dataframe thead th {\n        text-align: right;\n    }\n</style>\n<table border=\"1\" class=\"dataframe\">\n  <thead>\n    <tr style=\"text-align: right;\">\n      <th></th>\n      <th>neighbourhood_group</th>\n      <th>mean_price</th>\n      <th>n_listings</th>\n    </tr>\n  </thead>\n  <tbody>\n    <tr>\n      <th>0</th>\n      <td>Bronx</td>\n      <td>92.751479</td>\n      <td>1183.0</td>\n    </tr>\n    <tr>\n      <th>1</th>\n      <td>Brooklyn</td>\n      <td>120.225258</td>\n      <td>18632.0</td>\n    </tr>\n    <tr>\n      <th>2</th>\n      <td>LongIsland</td>\n      <td>NaN</td>\n      <td>4121.0</td>\n    </tr>\n    <tr>\n      <th>3</th>\n      <td>Manhattan</td>\n      <td>191.880466</td>\n      <td>20580.0</td>\n    </tr>\n    <tr>\n      <th>4</th>\n      <td>Queens</td>\n      <td>99.754965</td>\n      <td>NaN</td>\n    </tr>\n    <tr>\n      <th>5</th>\n      <td>Staten Island</td>\n      <td>110.947214</td>\n      <td>NaN</td>\n    </tr>\n  </tbody>\n</table>\n</div>"
     },
     "execution_count": 29,
     "metadata": {},
     "output_type": "execute_result"
    }
   ],
   "source": [
    "# 2. Do join that keeps all the records for each table.\n",
    "\n",
    "df = prices.merge(n_listings, 'outer', 'neighbourhood_group')\n",
    "df"
   ]
  },
  {
   "cell_type": "code",
   "execution_count": 30,
   "metadata": {},
   "outputs": [],
   "source": [
    "# 3. Save your joined csv as `joined.csv` into the data folder.\n",
    "\n",
    "df.to_csv('data/joined.csv', index=False)"
   ]
  },
  {
   "cell_type": "code",
   "execution_count": 32,
   "metadata": {},
   "outputs": [
    {
     "data": {
      "text/plain": "  neighbourhood_group   mean_price  n_listings\n0               Bronx    92.751479      1183.0\n1            Brooklyn   120.225258     18632.0\n2          LongIsland          NaN      4121.0\n3           Manhattan   191.880466     20580.0\n4              Queens    99.754965         NaN\n5       Staten Island   110.947214         NaN",
      "text/html": "<div>\n<style scoped>\n    .dataframe tbody tr th:only-of-type {\n        vertical-align: middle;\n    }\n\n    .dataframe tbody tr th {\n        vertical-align: top;\n    }\n\n    .dataframe thead th {\n        text-align: right;\n    }\n</style>\n<table border=\"1\" class=\"dataframe\">\n  <thead>\n    <tr style=\"text-align: right;\">\n      <th></th>\n      <th>neighbourhood_group</th>\n      <th>mean_price</th>\n      <th>n_listings</th>\n    </tr>\n  </thead>\n  <tbody>\n    <tr>\n      <th>0</th>\n      <td>Bronx</td>\n      <td>92.751479</td>\n      <td>1183.0</td>\n    </tr>\n    <tr>\n      <th>1</th>\n      <td>Brooklyn</td>\n      <td>120.225258</td>\n      <td>18632.0</td>\n    </tr>\n    <tr>\n      <th>2</th>\n      <td>LongIsland</td>\n      <td>NaN</td>\n      <td>4121.0</td>\n    </tr>\n    <tr>\n      <th>3</th>\n      <td>Manhattan</td>\n      <td>191.880466</td>\n      <td>20580.0</td>\n    </tr>\n    <tr>\n      <th>4</th>\n      <td>Queens</td>\n      <td>99.754965</td>\n      <td>NaN</td>\n    </tr>\n    <tr>\n      <th>5</th>\n      <td>Staten Island</td>\n      <td>110.947214</td>\n      <td>NaN</td>\n    </tr>\n  </tbody>\n</table>\n</div>"
     },
     "execution_count": 32,
     "metadata": {},
     "output_type": "execute_result"
    }
   ],
   "source": [
    "# 4. Load your newly saved file, see if it looks the same.  If not, try saving with argument `index=False`\n",
    "\n",
    "df = pd.read_csv('data/joined.csv')\n",
    "df"
   ]
  },
  {
   "cell_type": "markdown",
   "metadata": {},
   "source": [
    "# Extra Credit\n",
    "Every question below this cell is extra credit and optional."
   ]
  },
  {
   "cell_type": "markdown",
   "metadata": {},
   "source": [
    "### 1. (Easy) Explore this new PandasAI Package and tell me what its all about because I've never used it. \n",
    "* https://www.youtube.com/watch?v=5w6eZaoDVVk&ab_channel=CodingIsFun  \n",
    "* See if you can use it on the listings.csv to find out some cool info. or answer some of the questions above. "
   ]
  },
  {
   "cell_type": "markdown",
   "metadata": {},
   "source": [
    "### 2. (Very Easy) Find other cool Panda packages / add ons and show us what they can do well. And how you installed them. "
   ]
  },
  {
   "cell_type": "markdown",
   "metadata": {},
   "source": [
    "### 3. (Medium) Use the grammys.csv data for the next section of questions.\n",
    "\n",
    "1. Who was won Album of the Year in 2016?\n",
    "\n",
    "\n",
    "2. Who won Best Rap Album in 2009?\n",
    "\n",
    "\n",
    "3. How many awards was Kendrick Lamar nomiated for, and how many did he win...?"
   ]
  },
  {
   "cell_type": "markdown",
   "metadata": {},
   "source": [
    "### (Hard) Load the Game Logs for 2022 and add the column names using a dictionary.  \n",
    "* [Link to the data page](https://www.retrosheet.org/gamelogs/)\n",
    "* [Link to the column names](https://procatinator.com/)\n",
    "* haha, gotta find them yourself!"
   ]
  },
  {
   "cell_type": "markdown",
   "metadata": {},
   "source": [
    "### (Extra Hard) Download the files for the past 5 years into a new folder and add them all into one data frame using pandas, then save that new file.\n",
    "* Try to not hard code in the file names. We want to do this programmatically because what if we want to add new/more file names in the future."
   ]
  },
  {
   "cell_type": "code",
   "execution_count": 19,
   "metadata": {},
   "outputs": [],
   "source": []
  }
 ],
 "metadata": {
  "kernelspec": {
   "display_name": "Python 3 (ipykernel)",
   "language": "python",
   "name": "python3"
  },
  "language_info": {
   "codemirror_mode": {
    "name": "ipython",
    "version": 3
   },
   "file_extension": ".py",
   "mimetype": "text/x-python",
   "name": "python",
   "nbconvert_exporter": "python",
   "pygments_lexer": "ipython3",
   "version": "3.11.4"
  }
 },
 "nbformat": 4,
 "nbformat_minor": 4
}
